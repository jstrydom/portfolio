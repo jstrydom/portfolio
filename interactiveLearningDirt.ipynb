{
 "cells": [
  {
   "cell_type": "code",
   "execution_count": 3,
   "id": "9a21252b-ac62-4ee7-9c0b-0da6ab23f2e9",
   "metadata": {},
   "outputs": [],
   "source": [
    "%matplotlib widget"
   ]
  },
  {
   "cell_type": "code",
   "execution_count": 2,
   "id": "52961d59-7611-46ce-bfe5-22431bbfa583",
   "metadata": {},
   "outputs": [],
   "source": [
    "\n",
    "import numpy as np\n",
    "import matplotlib.pyplot as plt\n",
    "from matplotlib.widgets import LassoSelector\n",
    "from matplotlib.widgets import RectangleSelector\n",
    "from matplotlib.path import Path\n",
    "\n",
    "class image_lasso_selector:\n",
    "    def __init__(self, img, mask_alpha=.75, figsize=(10,10)):\n",
    "        \"\"\"\n",
    "        img must have shape (X, Y, 3)\n",
    "        \"\"\"\n",
    "        self.img = img\n",
    "        self.mask_alpha = mask_alpha\n",
    "        plt.ioff() # see https://github.com/matplotlib/matplotlib/issues/17013\n",
    "        self.fig = plt.figure(figsize=figsize)\n",
    "        self.ax = self.fig.gca()\n",
    "        self.displayed = self.ax.imshow(img)\n",
    "        plt.ion()\n",
    "        \n",
    "        self.lasso = LassoSelector(self.ax, self.onselect, useblit=False)\n",
    "        self.lasso.set_visible(True)\n",
    "        \n",
    "        pix_x = np.arange(self.img.shape[0])\n",
    "        pix_y = np.arange(self.img.shape[1])\n",
    "        xv, yv = np.meshgrid(pix_y,pix_x)\n",
    "        self.pix = np.vstack( (xv.flatten(), yv.flatten()) ).T\n",
    "        \n",
    "        self.mask = np.zeros(self.img.shape[:2])\n",
    "        \n",
    "    def onselect(self, verts):\n",
    "        self.verts = verts\n",
    "        p = Path(verts)\n",
    "        self.indices = p.contains_points(self.pix, radius=0).reshape(self.mask.shape)\n",
    "        self.draw_with_mask()\n",
    "        \n",
    "    def draw_with_mask(self):\n",
    "        array = self.displayed.get_array().data\n",
    "\n",
    "        # https://en.wikipedia.org/wiki/Alpha_compositing#Straight_versus_premultiplied     \n",
    "        self.mask[self.indices] = 1\n",
    "        c_overlay = self.mask[self.indices][...,None]*[1.,0,0]*self.mask_alpha\n",
    "        array[self.indices] = (c_overlay + self.img[self.indices]*(1-self.mask_alpha))\n",
    "\n",
    "        self.displayed.set_data(array)\n",
    "        self.fig.canvas.draw_idle()\n",
    "        \n",
    "    def _ipython_display_(self):\n",
    "        display(self.fig.canvas)"
   ]
  },
  {
   "cell_type": "code",
   "execution_count": 43,
   "id": "89cdd8df-055a-426f-a94b-140ae858bac4",
   "metadata": {},
   "outputs": [],
   "source": [
    "import cv2\n",
    "\n",
    "# Load an image\n",
    "image_path = '/data/share/innocorn/datasets/patchedDirtySacch/no_sacch/IMG_0005_patch_132.jpg'  # Replace with your image path\n",
    "image = cv2.imread(image_path)"
   ]
  },
  {
   "cell_type": "code",
   "execution_count": 145,
   "id": "a506409c-b8d7-4cad-81fe-ad9287bb5853",
   "metadata": {},
   "outputs": [
    {
     "ename": "NameError",
     "evalue": "name 'image_lasso_selector' is not defined",
     "output_type": "error",
     "traceback": [
      "\u001b[0;31m---------------------------------------------------------------------------\u001b[0m",
      "\u001b[0;31mNameError\u001b[0m                                 Traceback (most recent call last)",
      "Cell \u001b[0;32mIn[145], line 2\u001b[0m\n\u001b[1;32m      1\u001b[0m \u001b[38;5;66;03m# Create an instance of the image lasso selector\u001b[39;00m\n\u001b[0;32m----> 2\u001b[0m selector \u001b[38;5;241m=\u001b[39m \u001b[43mimage_lasso_selector\u001b[49m(image)\n\u001b[1;32m      4\u001b[0m \u001b[38;5;66;03m# Display the interactive plot\u001b[39;00m\n\u001b[1;32m      5\u001b[0m selector\u001b[38;5;241m.\u001b[39m_ipython_display_()\n",
      "\u001b[0;31mNameError\u001b[0m: name 'image_lasso_selector' is not defined"
     ]
    }
   ],
   "source": [
    "# Create an instance of the image lasso selector\n",
    "selector = image_lasso_selector(image)\n",
    "\n",
    "# Display the interactive plot\n",
    "selector._ipython_display_()"
   ]
  },
  {
   "cell_type": "code",
   "execution_count": 116,
   "id": "9c612ddb-3a28-4bea-9f93-c32a9e90b9ec",
   "metadata": {},
   "outputs": [],
   "source": [
    "from collections import defaultdict \n",
    "data_dict = defaultdict(list)"
   ]
  },
  {
   "cell_type": "code",
   "execution_count": 102,
   "id": "a079afbf-4406-48b1-8769-157e5bc29435",
   "metadata": {},
   "outputs": [],
   "source": [
    "import numpy as np\n",
    "import matplotlib.pyplot as plt\n",
    "from matplotlib.widgets import RectangleSelector\n",
    "\n",
    "class rectangular_selector:\n",
    "  \"\"\"\n",
    "  This class allows users to select a rectangular region of an image.\n",
    "\n",
    "  Args:\n",
    "      img: A numpy array representing the image with shape (X, Y, 3).\n",
    "      figsize: A tuple of (width, height) for the figure window (default=(10, 10)).\n",
    "\n",
    "  \"\"\"\n",
    "  def __init__(self, img, mask_alpha=.75, figsize=(10, 10)):\n",
    "    self.img = img\n",
    "    self.mask_alpha = mask_alpha\n",
    "    self.fig = plt.figure(figsize=figsize)\n",
    "    self.ax = self.fig.gca()\n",
    "    self.displayed = self.ax.imshow(img)\n",
    "    # Initialize empty rectangle properties\n",
    "    self.rect_props = {'facecolor': 'blue', 'alpha': 0.3, 'linestyle': 'dashed'}\n",
    "    self.rect = None  # This will store the rectangle object\n",
    "\n",
    "    # Create rectangle selector and connect it to the onselect function\n",
    "    self.selector = RectangleSelector(self.ax, self.onselect, interactive=True, props=self.rect_props)\n",
    "    \n",
    "  def onselect(self, eclick, erelease):\n",
    "    \"\"\"\n",
    "    This function is called whenever the user finishes selecting a rectangle.\n",
    "\n",
    "    Args:\n",
    "        eclick: A Matplotlib event object containing the starting click coordinates.\n",
    "        erelease: A Matplotlib event object containing the ending release coordinates.\n",
    "    \"\"\"\n",
    "    # Extract coordinates from events\n",
    "    x1, y1 = eclick.xdata, eclick.ydata\n",
    "    x2, y2 = erelease.xdata, erelease.ydata\n",
    "\n",
    "    # Ensure proper rectangle (top-left to bottom-right)\n",
    "    if x1 > x2:\n",
    "      x1, x2 = x2, x1\n",
    "    if y1 > y2:\n",
    "      y1, y2 = y2, y1\n",
    "    coords = (x1, y1, x2, y2)\n",
    "    # Draw the rectangle on the image\n",
    "    self.draw_rectangle(x1, y1, x2, y2)\n",
    "    # add the rectangle coords to the dictionary\n",
    "    data_dict[image_paths[ix]].append(coords)\n",
    "\n",
    "  def draw_rectangle(self, x1, y1, x2, y2):\n",
    "    \"\"\"\n",
    "    This function draws a rectangle on the image based on the provided coordinates.\n",
    "\n",
    "    Args:\n",
    "        x1: X coordinate of the top-left corner.\n",
    "        y1: Y coordinate of the top-left corner.\n",
    "        x2: X coordinate of the bottom-right corner.\n",
    "        y2: Y coordinate of the bottom-right corner.\n",
    "    \"\"\"\n",
    "    # Clear any existing rectangle\n",
    "    if self.rect is not None:\n",
    "      self.rect.remove()\n",
    "\n",
    "    # Create a rectangle patch with given coordinates and properties\n",
    "    width = x2 - x1\n",
    "    height = y2 - y1\n",
    "    self.rect = plt.Rectangle(xy=(x1, y1), width=width, height=height, **self.rect_props)\n",
    "\n",
    "    # Add the rectangle to the axis and redraw the figure\n",
    "    self.ax.add_patch(self.rect)\n",
    "    self.fig.canvas.draw_idle()\n",
    "\n",
    "  def _ipython_display_(self):\n",
    "        display(self.fig.canvas)"
   ]
  },
  {
   "cell_type": "code",
   "execution_count": 14,
   "id": "d893e362-f96b-4ba0-8202-2b6b5f2a46ec",
   "metadata": {},
   "outputs": [],
   "source": [
    "import cv2\n",
    "image_paths = [\n",
    "    '/data/share/innocorn/datasets/patchedDirtySacch/no_sacch/IMG_0005_patch_132.jpg',\n",
    "    '/data/share/innocorn/datasets/patchedDirtySacch/no_sacch/IMG_0005_patch_131.jpg',\n",
    "    '/data/share/innocorn/datasets/patchedDirtySacch/sacch/IMG_0011_patch_22.jpg',\n",
    "    '/data/share/innocorn/datasets/patchedDirtySacch/sacch/IMG_0011_patch_5.jpg',\n",
    "]\n",
    "images = [cv2.imread(path) for path in image_paths]"
   ]
  },
  {
   "cell_type": "code",
   "execution_count": 18,
   "id": "cac9065f-40be-46d7-b6ac-7c3d3d275d13",
   "metadata": {},
   "outputs": [
    {
     "data": {
      "application/vnd.jupyter.widget-view+json": {
       "model_id": "d6202ee1c118407e90f76d640628715d",
       "version_major": 2,
       "version_minor": 0
      },
      "text/plain": [
       "Button(description='Click Me!', style=ButtonStyle())"
      ]
     },
     "metadata": {},
     "output_type": "display_data"
    },
    {
     "data": {
      "application/vnd.jupyter.widget-view+json": {
       "model_id": "4db02423b49542cf87c87b9283c3eeba",
       "version_major": 2,
       "version_minor": 0
      },
      "text/plain": [
       "Output()"
      ]
     },
     "metadata": {},
     "output_type": "display_data"
    }
   ],
   "source": [
    "%matplotlib widget\n",
    "import ipywidgets\n",
    "from IPython.display import display, clear_output\n",
    "button = ipywidgets.Button(description=\"Click Me!\")\n",
    "output = ipywidgets.Output()\n",
    "\n",
    "display(button, output)\n",
    "\n",
    "def on_button_clicked(b):\n",
    "    global ix\n",
    "    global button\n",
    "    with output:\n",
    "        ix += 1\n",
    "        button.description = f\"Image {ix}\"\n",
    "        # do something here (e.g. process_some_data(ix))\n",
    "ix = 0\n",
    "button.on_click(on_button_clicked)"
   ]
  },
  {
   "cell_type": "code",
   "execution_count": 23,
   "id": "59950989-f18d-4ee8-b5f8-1991381da59e",
   "metadata": {},
   "outputs": [
    {
     "ename": "IndexError",
     "evalue": "list index out of range",
     "output_type": "error",
     "traceback": [
      "\u001b[0;31m---------------------------------------------------------------------------\u001b[0m",
      "\u001b[0;31mIndexError\u001b[0m                                Traceback (most recent call last)",
      "Cell \u001b[0;32mIn[23], line 1\u001b[0m\n\u001b[0;32m----> 1\u001b[0m selector \u001b[38;5;241m=\u001b[39m rectangular_selector(\u001b[43mimages\u001b[49m\u001b[43m[\u001b[49m\u001b[43mix\u001b[49m\u001b[43m]\u001b[49m)\n",
      "\u001b[0;31mIndexError\u001b[0m: list index out of range"
     ]
    }
   ],
   "source": [
    "selector = rectangular_selector(images[ix])"
   ]
  },
  {
   "cell_type": "code",
   "execution_count": 24,
   "id": "88be8dcb-2047-4c3d-b022-97dc6960d504",
   "metadata": {
    "scrolled": true
   },
   "outputs": [
    {
     "data": {
      "text/plain": [
       "defaultdict(list,\n",
       "            {'/data/share/innocorn/datasets/patchedDirtySacch/no_sacch/IMG_0005_patch_132.jpg': [(42.28302556818181,\n",
       "               26.72908380681818,\n",
       "               73.41029829545455,\n",
       "               56.401811079545496)],\n",
       "             '/data/share/innocorn/datasets/patchedDirtySacch/no_sacch/IMG_0005_patch_131.jpg': [(110.06484375000001,\n",
       "               33.88545809659095,\n",
       "               185.11938920454543,\n",
       "               87.70363991477276)],\n",
       "             '/data/share/innocorn/datasets/patchedDirtySacch/sacch/IMG_0011_patch_22.jpg': [(136.5375710227273,\n",
       "               156.41636186079546,\n",
       "               223.22848011363638,\n",
       "               223.0345436789773)],\n",
       "             '/data/share/innocorn/datasets/patchedDirtySacch/sacch/IMG_0011_patch_5.jpg': [(0.39211647727272947,\n",
       "               0.5472745028409634,\n",
       "               98.13757102272726,\n",
       "               139.89272904829548)]})"
      ]
     },
     "execution_count": 24,
     "metadata": {},
     "output_type": "execute_result"
    }
   ],
   "source": [
    "data_dict"
   ]
  },
  {
   "cell_type": "code",
   "execution_count": 25,
   "id": "18c16f5d-1bf4-4008-ad83-9dfdf5e73ff5",
   "metadata": {},
   "outputs": [],
   "source": [
    "import json\n",
    "data_json = json.dumps(data_dict)"
   ]
  },
  {
   "cell_type": "code",
   "execution_count": 26,
   "id": "63095149-df8f-453d-a4fc-2d7c5650c7f1",
   "metadata": {},
   "outputs": [
    {
     "data": {
      "text/plain": [
       "'{\"/data/share/innocorn/datasets/patchedDirtySacch/no_sacch/IMG_0005_patch_132.jpg\": [[42.28302556818181, 26.72908380681818, 73.41029829545455, 56.401811079545496]], \"/data/share/innocorn/datasets/patchedDirtySacch/no_sacch/IMG_0005_patch_131.jpg\": [[110.06484375000001, 33.88545809659095, 185.11938920454543, 87.70363991477276]], \"/data/share/innocorn/datasets/patchedDirtySacch/sacch/IMG_0011_patch_22.jpg\": [[136.5375710227273, 156.41636186079546, 223.22848011363638, 223.0345436789773]], \"/data/share/innocorn/datasets/patchedDirtySacch/sacch/IMG_0011_patch_5.jpg\": [[0.39211647727272947, 0.5472745028409634, 98.13757102272726, 139.89272904829548]]}'"
      ]
     },
     "execution_count": 26,
     "metadata": {},
     "output_type": "execute_result"
    }
   ],
   "source": [
    "data_json"
   ]
  },
  {
   "cell_type": "code",
   "execution_count": 28,
   "id": "3673cdb4-7190-4de0-9436-87f68def685e",
   "metadata": {},
   "outputs": [],
   "source": [
    "with open(\"test.json\", \"w\") as outfile:\n",
    "  json.dump(data_json, outfile)"
   ]
  }
 ],
 "metadata": {
  "kernelspec": {
   "display_name": "Python 3 (ipykernel)",
   "language": "python",
   "name": "python3"
  },
  "language_info": {
   "codemirror_mode": {
    "name": "ipython",
    "version": 3
   },
   "file_extension": ".py",
   "mimetype": "text/x-python",
   "name": "python",
   "nbconvert_exporter": "python",
   "pygments_lexer": "ipython3",
   "version": "3.10.8"
  }
 },
 "nbformat": 4,
 "nbformat_minor": 5
}
