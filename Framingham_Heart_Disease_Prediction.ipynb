{
  "cells": [
    {
      "cell_type": "code",
      "execution_count": null,
      "id": "0674a4e2-6c46-4780-af61-cb46288f2bef",
      "metadata": {
        "id": "0674a4e2-6c46-4780-af61-cb46288f2bef"
      },
      "outputs": [],
      "source": [
        "#cleaning and loading of data\n",
        "#plots\n",
        "#Decision Trees\n",
        "#Logistic Regression\n",
        "#XGBoost (Extreme Gradient Boosting)\n",
        "#results of model\n",
        "#factor plots"
      ]
    },
    {
      "cell_type": "code",
      "execution_count": 4,
      "id": "f3acccd1-962a-47c9-a53f-c68cf0d8f540",
      "metadata": {
        "id": "f3acccd1-962a-47c9-a53f-c68cf0d8f540"
      },
      "outputs": [],
      "source": [
        "import pandas as pd\n",
        "import numpy as np\n",
        "import matplotlib.pyplot as plt"
      ]
    },
    {
      "cell_type": "code",
      "source": [
        "from google.colab import drive\n",
        "drive.mount('/content/drive')"
      ],
      "metadata": {
        "colab": {
          "base_uri": "https://localhost:8080/"
        },
        "id": "29NBo9eAdHMI",
        "outputId": "a4f1cb3e-258c-413d-a2c0-2f981065fe90"
      },
      "id": "29NBo9eAdHMI",
      "execution_count": 5,
      "outputs": [
        {
          "output_type": "stream",
          "name": "stdout",
          "text": [
            "Mounted at /content/drive\n"
          ]
        }
      ]
    },
    {
      "cell_type": "code",
      "execution_count": 6,
      "id": "7d30e80b-7b1f-4891-9b25-bfd814633890",
      "metadata": {
        "id": "7d30e80b-7b1f-4891-9b25-bfd814633890"
      },
      "outputs": [],
      "source": [
        "data = pd.read_csv('/content/drive/MyDrive/portfolio work/framingham.csv')"
      ]
    },
    {
      "cell_type": "code",
      "execution_count": 7,
      "id": "e0439005-56dc-4ff1-bc2e-6cafeb3b8fa0",
      "metadata": {
        "id": "e0439005-56dc-4ff1-bc2e-6cafeb3b8fa0",
        "outputId": "67d6fe1e-f50f-456e-a588-9a4832e5b441",
        "colab": {
          "base_uri": "https://localhost:8080/",
          "height": 206
        }
      },
      "outputs": [
        {
          "output_type": "execute_result",
          "data": {
            "text/plain": [
              "   male  age  education  currentSmoker  cigsPerDay  BPMeds  prevalentStroke  \\\n",
              "0     1   39        4.0              0         0.0     0.0                0   \n",
              "1     0   46        2.0              0         0.0     0.0                0   \n",
              "2     1   48        1.0              1        20.0     0.0                0   \n",
              "3     0   61        3.0              1        30.0     0.0                0   \n",
              "4     0   46        3.0              1        23.0     0.0                0   \n",
              "\n",
              "   prevalentHyp  diabetes  totChol  sysBP  diaBP    BMI  heartRate  glucose  \\\n",
              "0             0         0    195.0  106.0   70.0  26.97       80.0     77.0   \n",
              "1             0         0    250.0  121.0   81.0  28.73       95.0     76.0   \n",
              "2             0         0    245.0  127.5   80.0  25.34       75.0     70.0   \n",
              "3             1         0    225.0  150.0   95.0  28.58       65.0    103.0   \n",
              "4             0         0    285.0  130.0   84.0  23.10       85.0     85.0   \n",
              "\n",
              "   TenYearCHD  \n",
              "0           0  \n",
              "1           0  \n",
              "2           0  \n",
              "3           1  \n",
              "4           0  "
            ],
            "text/html": [
              "\n",
              "  <div id=\"df-49984c7c-1eaa-4b66-96e8-e4c2bd1d1b41\" class=\"colab-df-container\">\n",
              "    <div>\n",
              "<style scoped>\n",
              "    .dataframe tbody tr th:only-of-type {\n",
              "        vertical-align: middle;\n",
              "    }\n",
              "\n",
              "    .dataframe tbody tr th {\n",
              "        vertical-align: top;\n",
              "    }\n",
              "\n",
              "    .dataframe thead th {\n",
              "        text-align: right;\n",
              "    }\n",
              "</style>\n",
              "<table border=\"1\" class=\"dataframe\">\n",
              "  <thead>\n",
              "    <tr style=\"text-align: right;\">\n",
              "      <th></th>\n",
              "      <th>male</th>\n",
              "      <th>age</th>\n",
              "      <th>education</th>\n",
              "      <th>currentSmoker</th>\n",
              "      <th>cigsPerDay</th>\n",
              "      <th>BPMeds</th>\n",
              "      <th>prevalentStroke</th>\n",
              "      <th>prevalentHyp</th>\n",
              "      <th>diabetes</th>\n",
              "      <th>totChol</th>\n",
              "      <th>sysBP</th>\n",
              "      <th>diaBP</th>\n",
              "      <th>BMI</th>\n",
              "      <th>heartRate</th>\n",
              "      <th>glucose</th>\n",
              "      <th>TenYearCHD</th>\n",
              "    </tr>\n",
              "  </thead>\n",
              "  <tbody>\n",
              "    <tr>\n",
              "      <th>0</th>\n",
              "      <td>1</td>\n",
              "      <td>39</td>\n",
              "      <td>4.0</td>\n",
              "      <td>0</td>\n",
              "      <td>0.0</td>\n",
              "      <td>0.0</td>\n",
              "      <td>0</td>\n",
              "      <td>0</td>\n",
              "      <td>0</td>\n",
              "      <td>195.0</td>\n",
              "      <td>106.0</td>\n",
              "      <td>70.0</td>\n",
              "      <td>26.97</td>\n",
              "      <td>80.0</td>\n",
              "      <td>77.0</td>\n",
              "      <td>0</td>\n",
              "    </tr>\n",
              "    <tr>\n",
              "      <th>1</th>\n",
              "      <td>0</td>\n",
              "      <td>46</td>\n",
              "      <td>2.0</td>\n",
              "      <td>0</td>\n",
              "      <td>0.0</td>\n",
              "      <td>0.0</td>\n",
              "      <td>0</td>\n",
              "      <td>0</td>\n",
              "      <td>0</td>\n",
              "      <td>250.0</td>\n",
              "      <td>121.0</td>\n",
              "      <td>81.0</td>\n",
              "      <td>28.73</td>\n",
              "      <td>95.0</td>\n",
              "      <td>76.0</td>\n",
              "      <td>0</td>\n",
              "    </tr>\n",
              "    <tr>\n",
              "      <th>2</th>\n",
              "      <td>1</td>\n",
              "      <td>48</td>\n",
              "      <td>1.0</td>\n",
              "      <td>1</td>\n",
              "      <td>20.0</td>\n",
              "      <td>0.0</td>\n",
              "      <td>0</td>\n",
              "      <td>0</td>\n",
              "      <td>0</td>\n",
              "      <td>245.0</td>\n",
              "      <td>127.5</td>\n",
              "      <td>80.0</td>\n",
              "      <td>25.34</td>\n",
              "      <td>75.0</td>\n",
              "      <td>70.0</td>\n",
              "      <td>0</td>\n",
              "    </tr>\n",
              "    <tr>\n",
              "      <th>3</th>\n",
              "      <td>0</td>\n",
              "      <td>61</td>\n",
              "      <td>3.0</td>\n",
              "      <td>1</td>\n",
              "      <td>30.0</td>\n",
              "      <td>0.0</td>\n",
              "      <td>0</td>\n",
              "      <td>1</td>\n",
              "      <td>0</td>\n",
              "      <td>225.0</td>\n",
              "      <td>150.0</td>\n",
              "      <td>95.0</td>\n",
              "      <td>28.58</td>\n",
              "      <td>65.0</td>\n",
              "      <td>103.0</td>\n",
              "      <td>1</td>\n",
              "    </tr>\n",
              "    <tr>\n",
              "      <th>4</th>\n",
              "      <td>0</td>\n",
              "      <td>46</td>\n",
              "      <td>3.0</td>\n",
              "      <td>1</td>\n",
              "      <td>23.0</td>\n",
              "      <td>0.0</td>\n",
              "      <td>0</td>\n",
              "      <td>0</td>\n",
              "      <td>0</td>\n",
              "      <td>285.0</td>\n",
              "      <td>130.0</td>\n",
              "      <td>84.0</td>\n",
              "      <td>23.10</td>\n",
              "      <td>85.0</td>\n",
              "      <td>85.0</td>\n",
              "      <td>0</td>\n",
              "    </tr>\n",
              "  </tbody>\n",
              "</table>\n",
              "</div>\n",
              "    <div class=\"colab-df-buttons\">\n",
              "\n",
              "  <div class=\"colab-df-container\">\n",
              "    <button class=\"colab-df-convert\" onclick=\"convertToInteractive('df-49984c7c-1eaa-4b66-96e8-e4c2bd1d1b41')\"\n",
              "            title=\"Convert this dataframe to an interactive table.\"\n",
              "            style=\"display:none;\">\n",
              "\n",
              "  <svg xmlns=\"http://www.w3.org/2000/svg\" height=\"24px\" viewBox=\"0 -960 960 960\">\n",
              "    <path d=\"M120-120v-720h720v720H120Zm60-500h600v-160H180v160Zm220 220h160v-160H400v160Zm0 220h160v-160H400v160ZM180-400h160v-160H180v160Zm440 0h160v-160H620v160ZM180-180h160v-160H180v160Zm440 0h160v-160H620v160Z\"/>\n",
              "  </svg>\n",
              "    </button>\n",
              "\n",
              "  <style>\n",
              "    .colab-df-container {\n",
              "      display:flex;\n",
              "      gap: 12px;\n",
              "    }\n",
              "\n",
              "    .colab-df-convert {\n",
              "      background-color: #E8F0FE;\n",
              "      border: none;\n",
              "      border-radius: 50%;\n",
              "      cursor: pointer;\n",
              "      display: none;\n",
              "      fill: #1967D2;\n",
              "      height: 32px;\n",
              "      padding: 0 0 0 0;\n",
              "      width: 32px;\n",
              "    }\n",
              "\n",
              "    .colab-df-convert:hover {\n",
              "      background-color: #E2EBFA;\n",
              "      box-shadow: 0px 1px 2px rgba(60, 64, 67, 0.3), 0px 1px 3px 1px rgba(60, 64, 67, 0.15);\n",
              "      fill: #174EA6;\n",
              "    }\n",
              "\n",
              "    .colab-df-buttons div {\n",
              "      margin-bottom: 4px;\n",
              "    }\n",
              "\n",
              "    [theme=dark] .colab-df-convert {\n",
              "      background-color: #3B4455;\n",
              "      fill: #D2E3FC;\n",
              "    }\n",
              "\n",
              "    [theme=dark] .colab-df-convert:hover {\n",
              "      background-color: #434B5C;\n",
              "      box-shadow: 0px 1px 3px 1px rgba(0, 0, 0, 0.15);\n",
              "      filter: drop-shadow(0px 1px 2px rgba(0, 0, 0, 0.3));\n",
              "      fill: #FFFFFF;\n",
              "    }\n",
              "  </style>\n",
              "\n",
              "    <script>\n",
              "      const buttonEl =\n",
              "        document.querySelector('#df-49984c7c-1eaa-4b66-96e8-e4c2bd1d1b41 button.colab-df-convert');\n",
              "      buttonEl.style.display =\n",
              "        google.colab.kernel.accessAllowed ? 'block' : 'none';\n",
              "\n",
              "      async function convertToInteractive(key) {\n",
              "        const element = document.querySelector('#df-49984c7c-1eaa-4b66-96e8-e4c2bd1d1b41');\n",
              "        const dataTable =\n",
              "          await google.colab.kernel.invokeFunction('convertToInteractive',\n",
              "                                                    [key], {});\n",
              "        if (!dataTable) return;\n",
              "\n",
              "        const docLinkHtml = 'Like what you see? Visit the ' +\n",
              "          '<a target=\"_blank\" href=https://colab.research.google.com/notebooks/data_table.ipynb>data table notebook</a>'\n",
              "          + ' to learn more about interactive tables.';\n",
              "        element.innerHTML = '';\n",
              "        dataTable['output_type'] = 'display_data';\n",
              "        await google.colab.output.renderOutput(dataTable, element);\n",
              "        const docLink = document.createElement('div');\n",
              "        docLink.innerHTML = docLinkHtml;\n",
              "        element.appendChild(docLink);\n",
              "      }\n",
              "    </script>\n",
              "  </div>\n",
              "\n",
              "\n",
              "<div id=\"df-3af27bd4-583a-4aed-aadf-c75556979c80\">\n",
              "  <button class=\"colab-df-quickchart\" onclick=\"quickchart('df-3af27bd4-583a-4aed-aadf-c75556979c80')\"\n",
              "            title=\"Suggest charts\"\n",
              "            style=\"display:none;\">\n",
              "\n",
              "<svg xmlns=\"http://www.w3.org/2000/svg\" height=\"24px\"viewBox=\"0 0 24 24\"\n",
              "     width=\"24px\">\n",
              "    <g>\n",
              "        <path d=\"M19 3H5c-1.1 0-2 .9-2 2v14c0 1.1.9 2 2 2h14c1.1 0 2-.9 2-2V5c0-1.1-.9-2-2-2zM9 17H7v-7h2v7zm4 0h-2V7h2v10zm4 0h-2v-4h2v4z\"/>\n",
              "    </g>\n",
              "</svg>\n",
              "  </button>\n",
              "\n",
              "<style>\n",
              "  .colab-df-quickchart {\n",
              "      --bg-color: #E8F0FE;\n",
              "      --fill-color: #1967D2;\n",
              "      --hover-bg-color: #E2EBFA;\n",
              "      --hover-fill-color: #174EA6;\n",
              "      --disabled-fill-color: #AAA;\n",
              "      --disabled-bg-color: #DDD;\n",
              "  }\n",
              "\n",
              "  [theme=dark] .colab-df-quickchart {\n",
              "      --bg-color: #3B4455;\n",
              "      --fill-color: #D2E3FC;\n",
              "      --hover-bg-color: #434B5C;\n",
              "      --hover-fill-color: #FFFFFF;\n",
              "      --disabled-bg-color: #3B4455;\n",
              "      --disabled-fill-color: #666;\n",
              "  }\n",
              "\n",
              "  .colab-df-quickchart {\n",
              "    background-color: var(--bg-color);\n",
              "    border: none;\n",
              "    border-radius: 50%;\n",
              "    cursor: pointer;\n",
              "    display: none;\n",
              "    fill: var(--fill-color);\n",
              "    height: 32px;\n",
              "    padding: 0;\n",
              "    width: 32px;\n",
              "  }\n",
              "\n",
              "  .colab-df-quickchart:hover {\n",
              "    background-color: var(--hover-bg-color);\n",
              "    box-shadow: 0 1px 2px rgba(60, 64, 67, 0.3), 0 1px 3px 1px rgba(60, 64, 67, 0.15);\n",
              "    fill: var(--button-hover-fill-color);\n",
              "  }\n",
              "\n",
              "  .colab-df-quickchart-complete:disabled,\n",
              "  .colab-df-quickchart-complete:disabled:hover {\n",
              "    background-color: var(--disabled-bg-color);\n",
              "    fill: var(--disabled-fill-color);\n",
              "    box-shadow: none;\n",
              "  }\n",
              "\n",
              "  .colab-df-spinner {\n",
              "    border: 2px solid var(--fill-color);\n",
              "    border-color: transparent;\n",
              "    border-bottom-color: var(--fill-color);\n",
              "    animation:\n",
              "      spin 1s steps(1) infinite;\n",
              "  }\n",
              "\n",
              "  @keyframes spin {\n",
              "    0% {\n",
              "      border-color: transparent;\n",
              "      border-bottom-color: var(--fill-color);\n",
              "      border-left-color: var(--fill-color);\n",
              "    }\n",
              "    20% {\n",
              "      border-color: transparent;\n",
              "      border-left-color: var(--fill-color);\n",
              "      border-top-color: var(--fill-color);\n",
              "    }\n",
              "    30% {\n",
              "      border-color: transparent;\n",
              "      border-left-color: var(--fill-color);\n",
              "      border-top-color: var(--fill-color);\n",
              "      border-right-color: var(--fill-color);\n",
              "    }\n",
              "    40% {\n",
              "      border-color: transparent;\n",
              "      border-right-color: var(--fill-color);\n",
              "      border-top-color: var(--fill-color);\n",
              "    }\n",
              "    60% {\n",
              "      border-color: transparent;\n",
              "      border-right-color: var(--fill-color);\n",
              "    }\n",
              "    80% {\n",
              "      border-color: transparent;\n",
              "      border-right-color: var(--fill-color);\n",
              "      border-bottom-color: var(--fill-color);\n",
              "    }\n",
              "    90% {\n",
              "      border-color: transparent;\n",
              "      border-bottom-color: var(--fill-color);\n",
              "    }\n",
              "  }\n",
              "</style>\n",
              "\n",
              "  <script>\n",
              "    async function quickchart(key) {\n",
              "      const quickchartButtonEl =\n",
              "        document.querySelector('#' + key + ' button');\n",
              "      quickchartButtonEl.disabled = true;  // To prevent multiple clicks.\n",
              "      quickchartButtonEl.classList.add('colab-df-spinner');\n",
              "      try {\n",
              "        const charts = await google.colab.kernel.invokeFunction(\n",
              "            'suggestCharts', [key], {});\n",
              "      } catch (error) {\n",
              "        console.error('Error during call to suggestCharts:', error);\n",
              "      }\n",
              "      quickchartButtonEl.classList.remove('colab-df-spinner');\n",
              "      quickchartButtonEl.classList.add('colab-df-quickchart-complete');\n",
              "    }\n",
              "    (() => {\n",
              "      let quickchartButtonEl =\n",
              "        document.querySelector('#df-3af27bd4-583a-4aed-aadf-c75556979c80 button');\n",
              "      quickchartButtonEl.style.display =\n",
              "        google.colab.kernel.accessAllowed ? 'block' : 'none';\n",
              "    })();\n",
              "  </script>\n",
              "</div>\n",
              "\n",
              "    </div>\n",
              "  </div>\n"
            ],
            "application/vnd.google.colaboratory.intrinsic+json": {
              "type": "dataframe",
              "variable_name": "data",
              "summary": "{\n  \"name\": \"data\",\n  \"rows\": 4240,\n  \"fields\": [\n    {\n      \"column\": \"male\",\n      \"properties\": {\n        \"dtype\": \"number\",\n        \"std\": 0,\n        \"min\": 0,\n        \"max\": 1,\n        \"num_unique_values\": 2,\n        \"samples\": [\n          0,\n          1\n        ],\n        \"semantic_type\": \"\",\n        \"description\": \"\"\n      }\n    },\n    {\n      \"column\": \"age\",\n      \"properties\": {\n        \"dtype\": \"number\",\n        \"std\": 8,\n        \"min\": 32,\n        \"max\": 70,\n        \"num_unique_values\": 39,\n        \"samples\": [\n          34,\n          70\n        ],\n        \"semantic_type\": \"\",\n        \"description\": \"\"\n      }\n    },\n    {\n      \"column\": \"education\",\n      \"properties\": {\n        \"dtype\": \"number\",\n        \"std\": 1.0197911793650105,\n        \"min\": 1.0,\n        \"max\": 4.0,\n        \"num_unique_values\": 4,\n        \"samples\": [\n          2.0,\n          3.0\n        ],\n        \"semantic_type\": \"\",\n        \"description\": \"\"\n      }\n    },\n    {\n      \"column\": \"currentSmoker\",\n      \"properties\": {\n        \"dtype\": \"number\",\n        \"std\": 0,\n        \"min\": 0,\n        \"max\": 1,\n        \"num_unique_values\": 2,\n        \"samples\": [\n          1,\n          0\n        ],\n        \"semantic_type\": \"\",\n        \"description\": \"\"\n      }\n    },\n    {\n      \"column\": \"cigsPerDay\",\n      \"properties\": {\n        \"dtype\": \"number\",\n        \"std\": 11.922461800609083,\n        \"min\": 0.0,\n        \"max\": 70.0,\n        \"num_unique_values\": 33,\n        \"samples\": [\n          19.0,\n          4.0\n        ],\n        \"semantic_type\": \"\",\n        \"description\": \"\"\n      }\n    },\n    {\n      \"column\": \"BPMeds\",\n      \"properties\": {\n        \"dtype\": \"number\",\n        \"std\": 0.16954428739626196,\n        \"min\": 0.0,\n        \"max\": 1.0,\n        \"num_unique_values\": 2,\n        \"samples\": [\n          1.0,\n          0.0\n        ],\n        \"semantic_type\": \"\",\n        \"description\": \"\"\n      }\n    },\n    {\n      \"column\": \"prevalentStroke\",\n      \"properties\": {\n        \"dtype\": \"number\",\n        \"std\": 0,\n        \"min\": 0,\n        \"max\": 1,\n        \"num_unique_values\": 2,\n        \"samples\": [\n          1,\n          0\n        ],\n        \"semantic_type\": \"\",\n        \"description\": \"\"\n      }\n    },\n    {\n      \"column\": \"prevalentHyp\",\n      \"properties\": {\n        \"dtype\": \"number\",\n        \"std\": 0,\n        \"min\": 0,\n        \"max\": 1,\n        \"num_unique_values\": 2,\n        \"samples\": [\n          1,\n          0\n        ],\n        \"semantic_type\": \"\",\n        \"description\": \"\"\n      }\n    },\n    {\n      \"column\": \"diabetes\",\n      \"properties\": {\n        \"dtype\": \"number\",\n        \"std\": 0,\n        \"min\": 0,\n        \"max\": 1,\n        \"num_unique_values\": 2,\n        \"samples\": [\n          1,\n          0\n        ],\n        \"semantic_type\": \"\",\n        \"description\": \"\"\n      }\n    },\n    {\n      \"column\": \"totChol\",\n      \"properties\": {\n        \"dtype\": \"number\",\n        \"std\": 44.59128386860701,\n        \"min\": 107.0,\n        \"max\": 696.0,\n        \"num_unique_values\": 248,\n        \"samples\": [\n          311.0,\n          205.0\n        ],\n        \"semantic_type\": \"\",\n        \"description\": \"\"\n      }\n    },\n    {\n      \"column\": \"sysBP\",\n      \"properties\": {\n        \"dtype\": \"number\",\n        \"std\": 22.033299608849184,\n        \"min\": 83.5,\n        \"max\": 295.0,\n        \"num_unique_values\": 234,\n        \"samples\": [\n          109.0,\n          184.5\n        ],\n        \"semantic_type\": \"\",\n        \"description\": \"\"\n      }\n    },\n    {\n      \"column\": \"diaBP\",\n      \"properties\": {\n        \"dtype\": \"number\",\n        \"std\": 11.91039448330595,\n        \"min\": 48.0,\n        \"max\": 142.5,\n        \"num_unique_values\": 146,\n        \"samples\": [\n          106.0,\n          108.5\n        ],\n        \"semantic_type\": \"\",\n        \"description\": \"\"\n      }\n    },\n    {\n      \"column\": \"BMI\",\n      \"properties\": {\n        \"dtype\": \"number\",\n        \"std\": 4.079840168944382,\n        \"min\": 15.54,\n        \"max\": 56.8,\n        \"num_unique_values\": 1364,\n        \"samples\": [\n          24.56,\n          19.87\n        ],\n        \"semantic_type\": \"\",\n        \"description\": \"\"\n      }\n    },\n    {\n      \"column\": \"heartRate\",\n      \"properties\": {\n        \"dtype\": \"number\",\n        \"std\": 12.025347984469386,\n        \"min\": 44.0,\n        \"max\": 143.0,\n        \"num_unique_values\": 73,\n        \"samples\": [\n          85.0,\n          47.0\n        ],\n        \"semantic_type\": \"\",\n        \"description\": \"\"\n      }\n    },\n    {\n      \"column\": \"glucose\",\n      \"properties\": {\n        \"dtype\": \"number\",\n        \"std\": 23.954334811344744,\n        \"min\": 40.0,\n        \"max\": 394.0,\n        \"num_unique_values\": 143,\n        \"samples\": [\n          394.0,\n          74.0\n        ],\n        \"semantic_type\": \"\",\n        \"description\": \"\"\n      }\n    },\n    {\n      \"column\": \"TenYearCHD\",\n      \"properties\": {\n        \"dtype\": \"number\",\n        \"std\": 0,\n        \"min\": 0,\n        \"max\": 1,\n        \"num_unique_values\": 2,\n        \"samples\": [\n          1,\n          0\n        ],\n        \"semantic_type\": \"\",\n        \"description\": \"\"\n      }\n    }\n  ]\n}"
            }
          },
          "metadata": {},
          "execution_count": 7
        }
      ],
      "source": [
        "data.head()"
      ]
    },
    {
      "cell_type": "code",
      "source": [
        "data.tail()"
      ],
      "metadata": {
        "colab": {
          "base_uri": "https://localhost:8080/",
          "height": 206
        },
        "id": "LT0Yo0R2HBXJ",
        "outputId": "2e6ab268-c546-43e9-8f6c-355b78598bd8"
      },
      "id": "LT0Yo0R2HBXJ",
      "execution_count": 8,
      "outputs": [
        {
          "output_type": "execute_result",
          "data": {
            "text/plain": [
              "      male  age  education  currentSmoker  cigsPerDay  BPMeds  \\\n",
              "4235     0   48        2.0              1        20.0     NaN   \n",
              "4236     0   44        1.0              1        15.0     0.0   \n",
              "4237     0   52        2.0              0         0.0     0.0   \n",
              "4238     1   40        3.0              0         0.0     0.0   \n",
              "4239     0   39        3.0              1        30.0     0.0   \n",
              "\n",
              "      prevalentStroke  prevalentHyp  diabetes  totChol  sysBP  diaBP    BMI  \\\n",
              "4235                0             0         0    248.0  131.0   72.0  22.00   \n",
              "4236                0             0         0    210.0  126.5   87.0  19.16   \n",
              "4237                0             0         0    269.0  133.5   83.0  21.47   \n",
              "4238                0             1         0    185.0  141.0   98.0  25.60   \n",
              "4239                0             0         0    196.0  133.0   86.0  20.91   \n",
              "\n",
              "      heartRate  glucose  TenYearCHD  \n",
              "4235       84.0     86.0           0  \n",
              "4236       86.0      NaN           0  \n",
              "4237       80.0    107.0           0  \n",
              "4238       67.0     72.0           0  \n",
              "4239       85.0     80.0           0  "
            ],
            "text/html": [
              "\n",
              "  <div id=\"df-d1158d97-0e07-4412-8666-e61fa42488e6\" class=\"colab-df-container\">\n",
              "    <div>\n",
              "<style scoped>\n",
              "    .dataframe tbody tr th:only-of-type {\n",
              "        vertical-align: middle;\n",
              "    }\n",
              "\n",
              "    .dataframe tbody tr th {\n",
              "        vertical-align: top;\n",
              "    }\n",
              "\n",
              "    .dataframe thead th {\n",
              "        text-align: right;\n",
              "    }\n",
              "</style>\n",
              "<table border=\"1\" class=\"dataframe\">\n",
              "  <thead>\n",
              "    <tr style=\"text-align: right;\">\n",
              "      <th></th>\n",
              "      <th>male</th>\n",
              "      <th>age</th>\n",
              "      <th>education</th>\n",
              "      <th>currentSmoker</th>\n",
              "      <th>cigsPerDay</th>\n",
              "      <th>BPMeds</th>\n",
              "      <th>prevalentStroke</th>\n",
              "      <th>prevalentHyp</th>\n",
              "      <th>diabetes</th>\n",
              "      <th>totChol</th>\n",
              "      <th>sysBP</th>\n",
              "      <th>diaBP</th>\n",
              "      <th>BMI</th>\n",
              "      <th>heartRate</th>\n",
              "      <th>glucose</th>\n",
              "      <th>TenYearCHD</th>\n",
              "    </tr>\n",
              "  </thead>\n",
              "  <tbody>\n",
              "    <tr>\n",
              "      <th>4235</th>\n",
              "      <td>0</td>\n",
              "      <td>48</td>\n",
              "      <td>2.0</td>\n",
              "      <td>1</td>\n",
              "      <td>20.0</td>\n",
              "      <td>NaN</td>\n",
              "      <td>0</td>\n",
              "      <td>0</td>\n",
              "      <td>0</td>\n",
              "      <td>248.0</td>\n",
              "      <td>131.0</td>\n",
              "      <td>72.0</td>\n",
              "      <td>22.00</td>\n",
              "      <td>84.0</td>\n",
              "      <td>86.0</td>\n",
              "      <td>0</td>\n",
              "    </tr>\n",
              "    <tr>\n",
              "      <th>4236</th>\n",
              "      <td>0</td>\n",
              "      <td>44</td>\n",
              "      <td>1.0</td>\n",
              "      <td>1</td>\n",
              "      <td>15.0</td>\n",
              "      <td>0.0</td>\n",
              "      <td>0</td>\n",
              "      <td>0</td>\n",
              "      <td>0</td>\n",
              "      <td>210.0</td>\n",
              "      <td>126.5</td>\n",
              "      <td>87.0</td>\n",
              "      <td>19.16</td>\n",
              "      <td>86.0</td>\n",
              "      <td>NaN</td>\n",
              "      <td>0</td>\n",
              "    </tr>\n",
              "    <tr>\n",
              "      <th>4237</th>\n",
              "      <td>0</td>\n",
              "      <td>52</td>\n",
              "      <td>2.0</td>\n",
              "      <td>0</td>\n",
              "      <td>0.0</td>\n",
              "      <td>0.0</td>\n",
              "      <td>0</td>\n",
              "      <td>0</td>\n",
              "      <td>0</td>\n",
              "      <td>269.0</td>\n",
              "      <td>133.5</td>\n",
              "      <td>83.0</td>\n",
              "      <td>21.47</td>\n",
              "      <td>80.0</td>\n",
              "      <td>107.0</td>\n",
              "      <td>0</td>\n",
              "    </tr>\n",
              "    <tr>\n",
              "      <th>4238</th>\n",
              "      <td>1</td>\n",
              "      <td>40</td>\n",
              "      <td>3.0</td>\n",
              "      <td>0</td>\n",
              "      <td>0.0</td>\n",
              "      <td>0.0</td>\n",
              "      <td>0</td>\n",
              "      <td>1</td>\n",
              "      <td>0</td>\n",
              "      <td>185.0</td>\n",
              "      <td>141.0</td>\n",
              "      <td>98.0</td>\n",
              "      <td>25.60</td>\n",
              "      <td>67.0</td>\n",
              "      <td>72.0</td>\n",
              "      <td>0</td>\n",
              "    </tr>\n",
              "    <tr>\n",
              "      <th>4239</th>\n",
              "      <td>0</td>\n",
              "      <td>39</td>\n",
              "      <td>3.0</td>\n",
              "      <td>1</td>\n",
              "      <td>30.0</td>\n",
              "      <td>0.0</td>\n",
              "      <td>0</td>\n",
              "      <td>0</td>\n",
              "      <td>0</td>\n",
              "      <td>196.0</td>\n",
              "      <td>133.0</td>\n",
              "      <td>86.0</td>\n",
              "      <td>20.91</td>\n",
              "      <td>85.0</td>\n",
              "      <td>80.0</td>\n",
              "      <td>0</td>\n",
              "    </tr>\n",
              "  </tbody>\n",
              "</table>\n",
              "</div>\n",
              "    <div class=\"colab-df-buttons\">\n",
              "\n",
              "  <div class=\"colab-df-container\">\n",
              "    <button class=\"colab-df-convert\" onclick=\"convertToInteractive('df-d1158d97-0e07-4412-8666-e61fa42488e6')\"\n",
              "            title=\"Convert this dataframe to an interactive table.\"\n",
              "            style=\"display:none;\">\n",
              "\n",
              "  <svg xmlns=\"http://www.w3.org/2000/svg\" height=\"24px\" viewBox=\"0 -960 960 960\">\n",
              "    <path d=\"M120-120v-720h720v720H120Zm60-500h600v-160H180v160Zm220 220h160v-160H400v160Zm0 220h160v-160H400v160ZM180-400h160v-160H180v160Zm440 0h160v-160H620v160ZM180-180h160v-160H180v160Zm440 0h160v-160H620v160Z\"/>\n",
              "  </svg>\n",
              "    </button>\n",
              "\n",
              "  <style>\n",
              "    .colab-df-container {\n",
              "      display:flex;\n",
              "      gap: 12px;\n",
              "    }\n",
              "\n",
              "    .colab-df-convert {\n",
              "      background-color: #E8F0FE;\n",
              "      border: none;\n",
              "      border-radius: 50%;\n",
              "      cursor: pointer;\n",
              "      display: none;\n",
              "      fill: #1967D2;\n",
              "      height: 32px;\n",
              "      padding: 0 0 0 0;\n",
              "      width: 32px;\n",
              "    }\n",
              "\n",
              "    .colab-df-convert:hover {\n",
              "      background-color: #E2EBFA;\n",
              "      box-shadow: 0px 1px 2px rgba(60, 64, 67, 0.3), 0px 1px 3px 1px rgba(60, 64, 67, 0.15);\n",
              "      fill: #174EA6;\n",
              "    }\n",
              "\n",
              "    .colab-df-buttons div {\n",
              "      margin-bottom: 4px;\n",
              "    }\n",
              "\n",
              "    [theme=dark] .colab-df-convert {\n",
              "      background-color: #3B4455;\n",
              "      fill: #D2E3FC;\n",
              "    }\n",
              "\n",
              "    [theme=dark] .colab-df-convert:hover {\n",
              "      background-color: #434B5C;\n",
              "      box-shadow: 0px 1px 3px 1px rgba(0, 0, 0, 0.15);\n",
              "      filter: drop-shadow(0px 1px 2px rgba(0, 0, 0, 0.3));\n",
              "      fill: #FFFFFF;\n",
              "    }\n",
              "  </style>\n",
              "\n",
              "    <script>\n",
              "      const buttonEl =\n",
              "        document.querySelector('#df-d1158d97-0e07-4412-8666-e61fa42488e6 button.colab-df-convert');\n",
              "      buttonEl.style.display =\n",
              "        google.colab.kernel.accessAllowed ? 'block' : 'none';\n",
              "\n",
              "      async function convertToInteractive(key) {\n",
              "        const element = document.querySelector('#df-d1158d97-0e07-4412-8666-e61fa42488e6');\n",
              "        const dataTable =\n",
              "          await google.colab.kernel.invokeFunction('convertToInteractive',\n",
              "                                                    [key], {});\n",
              "        if (!dataTable) return;\n",
              "\n",
              "        const docLinkHtml = 'Like what you see? Visit the ' +\n",
              "          '<a target=\"_blank\" href=https://colab.research.google.com/notebooks/data_table.ipynb>data table notebook</a>'\n",
              "          + ' to learn more about interactive tables.';\n",
              "        element.innerHTML = '';\n",
              "        dataTable['output_type'] = 'display_data';\n",
              "        await google.colab.output.renderOutput(dataTable, element);\n",
              "        const docLink = document.createElement('div');\n",
              "        docLink.innerHTML = docLinkHtml;\n",
              "        element.appendChild(docLink);\n",
              "      }\n",
              "    </script>\n",
              "  </div>\n",
              "\n",
              "\n",
              "<div id=\"df-dd56c084-9de8-43a3-8c1b-2c06df2afaa1\">\n",
              "  <button class=\"colab-df-quickchart\" onclick=\"quickchart('df-dd56c084-9de8-43a3-8c1b-2c06df2afaa1')\"\n",
              "            title=\"Suggest charts\"\n",
              "            style=\"display:none;\">\n",
              "\n",
              "<svg xmlns=\"http://www.w3.org/2000/svg\" height=\"24px\"viewBox=\"0 0 24 24\"\n",
              "     width=\"24px\">\n",
              "    <g>\n",
              "        <path d=\"M19 3H5c-1.1 0-2 .9-2 2v14c0 1.1.9 2 2 2h14c1.1 0 2-.9 2-2V5c0-1.1-.9-2-2-2zM9 17H7v-7h2v7zm4 0h-2V7h2v10zm4 0h-2v-4h2v4z\"/>\n",
              "    </g>\n",
              "</svg>\n",
              "  </button>\n",
              "\n",
              "<style>\n",
              "  .colab-df-quickchart {\n",
              "      --bg-color: #E8F0FE;\n",
              "      --fill-color: #1967D2;\n",
              "      --hover-bg-color: #E2EBFA;\n",
              "      --hover-fill-color: #174EA6;\n",
              "      --disabled-fill-color: #AAA;\n",
              "      --disabled-bg-color: #DDD;\n",
              "  }\n",
              "\n",
              "  [theme=dark] .colab-df-quickchart {\n",
              "      --bg-color: #3B4455;\n",
              "      --fill-color: #D2E3FC;\n",
              "      --hover-bg-color: #434B5C;\n",
              "      --hover-fill-color: #FFFFFF;\n",
              "      --disabled-bg-color: #3B4455;\n",
              "      --disabled-fill-color: #666;\n",
              "  }\n",
              "\n",
              "  .colab-df-quickchart {\n",
              "    background-color: var(--bg-color);\n",
              "    border: none;\n",
              "    border-radius: 50%;\n",
              "    cursor: pointer;\n",
              "    display: none;\n",
              "    fill: var(--fill-color);\n",
              "    height: 32px;\n",
              "    padding: 0;\n",
              "    width: 32px;\n",
              "  }\n",
              "\n",
              "  .colab-df-quickchart:hover {\n",
              "    background-color: var(--hover-bg-color);\n",
              "    box-shadow: 0 1px 2px rgba(60, 64, 67, 0.3), 0 1px 3px 1px rgba(60, 64, 67, 0.15);\n",
              "    fill: var(--button-hover-fill-color);\n",
              "  }\n",
              "\n",
              "  .colab-df-quickchart-complete:disabled,\n",
              "  .colab-df-quickchart-complete:disabled:hover {\n",
              "    background-color: var(--disabled-bg-color);\n",
              "    fill: var(--disabled-fill-color);\n",
              "    box-shadow: none;\n",
              "  }\n",
              "\n",
              "  .colab-df-spinner {\n",
              "    border: 2px solid var(--fill-color);\n",
              "    border-color: transparent;\n",
              "    border-bottom-color: var(--fill-color);\n",
              "    animation:\n",
              "      spin 1s steps(1) infinite;\n",
              "  }\n",
              "\n",
              "  @keyframes spin {\n",
              "    0% {\n",
              "      border-color: transparent;\n",
              "      border-bottom-color: var(--fill-color);\n",
              "      border-left-color: var(--fill-color);\n",
              "    }\n",
              "    20% {\n",
              "      border-color: transparent;\n",
              "      border-left-color: var(--fill-color);\n",
              "      border-top-color: var(--fill-color);\n",
              "    }\n",
              "    30% {\n",
              "      border-color: transparent;\n",
              "      border-left-color: var(--fill-color);\n",
              "      border-top-color: var(--fill-color);\n",
              "      border-right-color: var(--fill-color);\n",
              "    }\n",
              "    40% {\n",
              "      border-color: transparent;\n",
              "      border-right-color: var(--fill-color);\n",
              "      border-top-color: var(--fill-color);\n",
              "    }\n",
              "    60% {\n",
              "      border-color: transparent;\n",
              "      border-right-color: var(--fill-color);\n",
              "    }\n",
              "    80% {\n",
              "      border-color: transparent;\n",
              "      border-right-color: var(--fill-color);\n",
              "      border-bottom-color: var(--fill-color);\n",
              "    }\n",
              "    90% {\n",
              "      border-color: transparent;\n",
              "      border-bottom-color: var(--fill-color);\n",
              "    }\n",
              "  }\n",
              "</style>\n",
              "\n",
              "  <script>\n",
              "    async function quickchart(key) {\n",
              "      const quickchartButtonEl =\n",
              "        document.querySelector('#' + key + ' button');\n",
              "      quickchartButtonEl.disabled = true;  // To prevent multiple clicks.\n",
              "      quickchartButtonEl.classList.add('colab-df-spinner');\n",
              "      try {\n",
              "        const charts = await google.colab.kernel.invokeFunction(\n",
              "            'suggestCharts', [key], {});\n",
              "      } catch (error) {\n",
              "        console.error('Error during call to suggestCharts:', error);\n",
              "      }\n",
              "      quickchartButtonEl.classList.remove('colab-df-spinner');\n",
              "      quickchartButtonEl.classList.add('colab-df-quickchart-complete');\n",
              "    }\n",
              "    (() => {\n",
              "      let quickchartButtonEl =\n",
              "        document.querySelector('#df-dd56c084-9de8-43a3-8c1b-2c06df2afaa1 button');\n",
              "      quickchartButtonEl.style.display =\n",
              "        google.colab.kernel.accessAllowed ? 'block' : 'none';\n",
              "    })();\n",
              "  </script>\n",
              "</div>\n",
              "\n",
              "    </div>\n",
              "  </div>\n"
            ],
            "application/vnd.google.colaboratory.intrinsic+json": {
              "type": "dataframe",
              "summary": "{\n  \"name\": \"data\",\n  \"rows\": 5,\n  \"fields\": [\n    {\n      \"column\": \"male\",\n      \"properties\": {\n        \"dtype\": \"number\",\n        \"std\": 0,\n        \"min\": 0,\n        \"max\": 1,\n        \"num_unique_values\": 2,\n        \"samples\": [\n          1,\n          0\n        ],\n        \"semantic_type\": \"\",\n        \"description\": \"\"\n      }\n    },\n    {\n      \"column\": \"age\",\n      \"properties\": {\n        \"dtype\": \"number\",\n        \"std\": 5,\n        \"min\": 39,\n        \"max\": 52,\n        \"num_unique_values\": 5,\n        \"samples\": [\n          44,\n          39\n        ],\n        \"semantic_type\": \"\",\n        \"description\": \"\"\n      }\n    },\n    {\n      \"column\": \"education\",\n      \"properties\": {\n        \"dtype\": \"number\",\n        \"std\": 0.8366600265340756,\n        \"min\": 1.0,\n        \"max\": 3.0,\n        \"num_unique_values\": 3,\n        \"samples\": [\n          2.0,\n          1.0\n        ],\n        \"semantic_type\": \"\",\n        \"description\": \"\"\n      }\n    },\n    {\n      \"column\": \"currentSmoker\",\n      \"properties\": {\n        \"dtype\": \"number\",\n        \"std\": 0,\n        \"min\": 0,\n        \"max\": 1,\n        \"num_unique_values\": 2,\n        \"samples\": [\n          0,\n          1\n        ],\n        \"semantic_type\": \"\",\n        \"description\": \"\"\n      }\n    },\n    {\n      \"column\": \"cigsPerDay\",\n      \"properties\": {\n        \"dtype\": \"number\",\n        \"std\": 13.038404810405298,\n        \"min\": 0.0,\n        \"max\": 30.0,\n        \"num_unique_values\": 4,\n        \"samples\": [\n          15.0,\n          30.0\n        ],\n        \"semantic_type\": \"\",\n        \"description\": \"\"\n      }\n    },\n    {\n      \"column\": \"BPMeds\",\n      \"properties\": {\n        \"dtype\": \"number\",\n        \"std\": 0.0,\n        \"min\": 0.0,\n        \"max\": 0.0,\n        \"num_unique_values\": 1,\n        \"samples\": [\n          0.0\n        ],\n        \"semantic_type\": \"\",\n        \"description\": \"\"\n      }\n    },\n    {\n      \"column\": \"prevalentStroke\",\n      \"properties\": {\n        \"dtype\": \"number\",\n        \"std\": 0,\n        \"min\": 0,\n        \"max\": 0,\n        \"num_unique_values\": 1,\n        \"samples\": [\n          0\n        ],\n        \"semantic_type\": \"\",\n        \"description\": \"\"\n      }\n    },\n    {\n      \"column\": \"prevalentHyp\",\n      \"properties\": {\n        \"dtype\": \"number\",\n        \"std\": 0,\n        \"min\": 0,\n        \"max\": 1,\n        \"num_unique_values\": 2,\n        \"samples\": [\n          1\n        ],\n        \"semantic_type\": \"\",\n        \"description\": \"\"\n      }\n    },\n    {\n      \"column\": \"diabetes\",\n      \"properties\": {\n        \"dtype\": \"number\",\n        \"std\": 0,\n        \"min\": 0,\n        \"max\": 0,\n        \"num_unique_values\": 1,\n        \"samples\": [\n          0\n        ],\n        \"semantic_type\": \"\",\n        \"description\": \"\"\n      }\n    },\n    {\n      \"column\": \"totChol\",\n      \"properties\": {\n        \"dtype\": \"number\",\n        \"std\": 35.61319980007413,\n        \"min\": 185.0,\n        \"max\": 269.0,\n        \"num_unique_values\": 5,\n        \"samples\": [\n          210.0\n        ],\n        \"semantic_type\": \"\",\n        \"description\": \"\"\n      }\n    },\n    {\n      \"column\": \"sysBP\",\n      \"properties\": {\n        \"dtype\": \"number\",\n        \"std\": 5.25594901040716,\n        \"min\": 126.5,\n        \"max\": 141.0,\n        \"num_unique_values\": 5,\n        \"samples\": [\n          126.5\n        ],\n        \"semantic_type\": \"\",\n        \"description\": \"\"\n      }\n    },\n    {\n      \"column\": \"diaBP\",\n      \"properties\": {\n        \"dtype\": \"number\",\n        \"std\": 9.311283477587823,\n        \"min\": 72.0,\n        \"max\": 98.0,\n        \"num_unique_values\": 5,\n        \"samples\": [\n          87.0\n        ],\n        \"semantic_type\": \"\",\n        \"description\": \"\"\n      }\n    },\n    {\n      \"column\": \"BMI\",\n      \"properties\": {\n        \"dtype\": \"number\",\n        \"std\": 2.363613758633166,\n        \"min\": 19.16,\n        \"max\": 25.6,\n        \"num_unique_values\": 5,\n        \"samples\": [\n          19.16\n        ],\n        \"semantic_type\": \"\",\n        \"description\": \"\"\n      }\n    },\n    {\n      \"column\": \"heartRate\",\n      \"properties\": {\n        \"dtype\": \"number\",\n        \"std\": 7.829431652425353,\n        \"min\": 67.0,\n        \"max\": 86.0,\n        \"num_unique_values\": 5,\n        \"samples\": [\n          86.0\n        ],\n        \"semantic_type\": \"\",\n        \"description\": \"\"\n      }\n    },\n    {\n      \"column\": \"glucose\",\n      \"properties\": {\n        \"dtype\": \"number\",\n        \"std\": 14.974979131871937,\n        \"min\": 72.0,\n        \"max\": 107.0,\n        \"num_unique_values\": 4,\n        \"samples\": [\n          107.0\n        ],\n        \"semantic_type\": \"\",\n        \"description\": \"\"\n      }\n    },\n    {\n      \"column\": \"TenYearCHD\",\n      \"properties\": {\n        \"dtype\": \"number\",\n        \"std\": 0,\n        \"min\": 0,\n        \"max\": 0,\n        \"num_unique_values\": 1,\n        \"samples\": [\n          0\n        ],\n        \"semantic_type\": \"\",\n        \"description\": \"\"\n      }\n    }\n  ]\n}"
            }
          },
          "metadata": {},
          "execution_count": 8
        }
      ]
    },
    {
      "cell_type": "code",
      "execution_count": 9,
      "id": "9b611c45-a289-423a-80da-7a1785e34998",
      "metadata": {
        "id": "9b611c45-a289-423a-80da-7a1785e34998",
        "outputId": "7de88920-03ff-4f7c-a499-19b60b5c5412",
        "colab": {
          "base_uri": "https://localhost:8080/",
          "height": 442
        }
      },
      "outputs": [
        {
          "output_type": "execute_result",
          "data": {
            "text/plain": [
              "<Axes: >"
            ]
          },
          "metadata": {},
          "execution_count": 9
        },
        {
          "output_type": "display_data",
          "data": {
            "text/plain": [
              "<Figure size 640x480 with 1 Axes>"
            ],
            "image/png": "[encoded data removed]"
          },
          "metadata": {}
        }
      ],
      "source": [
        "# create plots of each of the variables\n",
        "# categorical data for male or female\n",
        "data['male'].value_counts().plot(kind='bar')"
      ]
    },
    {
      "cell_type": "code",
      "execution_count": 10,
      "id": "cf749ef7-60f5-4dc5-b53b-b4d398f4f4ba",
      "metadata": {
        "colab": {
          "base_uri": "https://localhost:8080/",
          "height": 447
        },
        "id": "cf749ef7-60f5-4dc5-b53b-b4d398f4f4ba",
        "outputId": "94bc2407-e6c3-45d5-ecca-1c74b7e030bd"
      },
      "outputs": [
        {
          "output_type": "execute_result",
          "data": {
            "text/plain": [
              "<Axes: ylabel='Frequency'>"
            ]
          },
          "metadata": {},
          "execution_count": 10
        },
        {
          "output_type": "display_data",
          "data": {
            "text/plain": [
              "<Figure size 640x480 with 1 Axes>"
            ],
            "image/png": "[encoded data removed]"
          },
          "metadata": {}
        }
      ],
      "source": [
        "# continuous variable which denotes age\n",
        "data['age'].plot(kind='hist', bins = 30)"
      ]
    },
    {
      "cell_type": "code",
      "execution_count": 11,
      "id": "dd48919c-49b5-49ae-bcb3-c8b34c2b58d3",
      "metadata": {
        "id": "dd48919c-49b5-49ae-bcb3-c8b34c2b58d3",
        "outputId": "7813245d-ac21-4f66-c7c5-1bec8f3846fe",
        "colab": {
          "base_uri": "https://localhost:8080/",
          "height": 455
        }
      },
      "outputs": [
        {
          "output_type": "execute_result",
          "data": {
            "text/plain": [
              "<Axes: >"
            ]
          },
          "metadata": {},
          "execution_count": 11
        },
        {
          "output_type": "display_data",
          "data": {
            "text/plain": [
              "<Figure size 640x480 with 1 Axes>"
            ],
            "image/png": "[encoded data removed]"
          },
          "metadata": {}
        }
      ],
      "source": [
        "# Categorical that shows education received\n",
        "data['education'].value_counts().plot(kind='bar')"
      ]
    },
    {
      "cell_type": "code",
      "execution_count": 12,
      "id": "f2964e5e-7d83-4106-8d85-8c0c538b8b61",
      "metadata": {
        "id": "f2964e5e-7d83-4106-8d85-8c0c538b8b61",
        "outputId": "0d6c8dfb-81f4-4737-9a82-0fa9556fa34e",
        "colab": {
          "base_uri": "https://localhost:8080/",
          "height": 442
        }
      },
      "outputs": [
        {
          "output_type": "execute_result",
          "data": {
            "text/plain": [
              "<Axes: >"
            ]
          },
          "metadata": {},
          "execution_count": 12
        },
        {
          "output_type": "display_data",
          "data": {
            "text/plain": [
              "<Figure size 640x480 with 1 Axes>"
            ],
            "image/png": "[encoded data removed]"
          },
          "metadata": {}
        }
      ],
      "source": [
        "#\n",
        "data['currentSmoker'].value_counts().plot(kind='bar')"
      ]
    },
    {
      "cell_type": "code",
      "execution_count": 14,
      "id": "6686bddb-4c2a-4367-aca7-b726f864722d",
      "metadata": {
        "colab": {
          "base_uri": "https://localhost:8080/",
          "height": 447
        },
        "id": "6686bddb-4c2a-4367-aca7-b726f864722d",
        "outputId": "5f0dfd5b-3d18-45a3-bd80-7c37127baa3a"
      },
      "outputs": [
        {
          "output_type": "execute_result",
          "data": {
            "text/plain": [
              "<Axes: ylabel='Frequency'>"
            ]
          },
          "metadata": {},
          "execution_count": 14
        },
        {
          "output_type": "display_data",
          "data": {
            "text/plain": [
              "<Figure size 640x480 with 1 Axes>"
            ],
            "image/png": "[encoded data removed]"
          },
          "metadata": {}
        }
      ],
      "source": [
        "# number of cigaar\n",
        "data['cigsPerDay'][data['cigsPerDay'] > 0].plot(kind='hist', bins = 30)"
      ]
    },
    {
      "cell_type": "code",
      "execution_count": 15,
      "id": "832b886d-5cab-46e4-a6d3-9bd8b309fa20",
      "metadata": {
        "id": "832b886d-5cab-46e4-a6d3-9bd8b309fa20",
        "outputId": "725782ce-eacf-4baf-c7c7-31f8fc66e65e",
        "colab": {
          "base_uri": "https://localhost:8080/",
          "height": 455
        }
      },
      "outputs": [
        {
          "output_type": "execute_result",
          "data": {
            "text/plain": [
              "<Axes: >"
            ]
          },
          "metadata": {},
          "execution_count": 15
        },
        {
          "output_type": "display_data",
          "data": {
            "text/plain": [
              "<Figure size 640x480 with 1 Axes>"
            ],
            "image/png": "[encoded data removed]"
          },
          "metadata": {}
        }
      ],
      "source": [
        "# binary on whether or not a patient is taking blood pressure med\n",
        "data['BPMeds'].value_counts().plot(kind='bar')"
      ]
    },
    {
      "cell_type": "code",
      "execution_count": 16,
      "id": "dbd020dc-5dc3-4933-a0c7-2197ef0cf6d1",
      "metadata": {
        "id": "dbd020dc-5dc3-4933-a0c7-2197ef0cf6d1",
        "outputId": "4bf17d5b-2536-4559-8873-7176ccae6e8a",
        "colab": {
          "base_uri": "https://localhost:8080/",
          "height": 442
        }
      },
      "outputs": [
        {
          "output_type": "execute_result",
          "data": {
            "text/plain": [
              "<Axes: >"
            ]
          },
          "metadata": {},
          "execution_count": 16
        },
        {
          "output_type": "display_data",
          "data": {
            "text/plain": [
              "<Figure size 640x480 with 1 Axes>"
            ],
            "image/png": "[encoded data removed]"
          },
          "metadata": {}
        }
      ],
      "source": [
        "# has had a stroke or not binary\n",
        "data['prevalentStroke'].value_counts().plot(kind='bar')"
      ]
    },
    {
      "cell_type": "code",
      "execution_count": 17,
      "id": "03e76899-3cc4-4830-b397-2d73c5ea873c",
      "metadata": {
        "id": "03e76899-3cc4-4830-b397-2d73c5ea873c",
        "outputId": "f34c3943-64a9-446a-e9f3-e912af56dbec",
        "colab": {
          "base_uri": "https://localhost:8080/",
          "height": 442
        }
      },
      "outputs": [
        {
          "output_type": "execute_result",
          "data": {
            "text/plain": [
              "<Axes: >"
            ]
          },
          "metadata": {},
          "execution_count": 17
        },
        {
          "output_type": "display_data",
          "data": {
            "text/plain": [
              "<Figure size 640x480 with 1 Axes>"
            ],
            "image/png": "[encoded data removed]"
          },
          "metadata": {}
        }
      ],
      "source": [
        "# hypertension prevalent binary\n",
        "data['prevalentHyp'].value_counts().plot(kind='bar')"
      ]
    },
    {
      "cell_type": "code",
      "execution_count": 18,
      "id": "a21784f3-2eab-4011-941d-9b2c0a6cdc06",
      "metadata": {
        "id": "a21784f3-2eab-4011-941d-9b2c0a6cdc06",
        "outputId": "9fed9f64-11f3-41f7-f1b9-593137ecca61",
        "colab": {
          "base_uri": "https://localhost:8080/",
          "height": 442
        }
      },
      "outputs": [
        {
          "output_type": "execute_result",
          "data": {
            "text/plain": [
              "<Axes: >"
            ]
          },
          "metadata": {},
          "execution_count": 18
        },
        {
          "output_type": "display_data",
          "data": {
            "text/plain": [
              "<Figure size 640x480 with 1 Axes>"
            ],
            "image/png": "[encoded data removed]"
          },
          "metadata": {}
        }
      ],
      "source": [
        "# diabetes binary\n",
        "data['diabetes'].value_counts().plot(kind='bar')"
      ]
    },
    {
      "cell_type": "code",
      "execution_count": 19,
      "id": "156af704-6777-4ded-8181-6ee6abbe6b8e",
      "metadata": {
        "colab": {
          "base_uri": "https://localhost:8080/",
          "height": 447
        },
        "id": "156af704-6777-4ded-8181-6ee6abbe6b8e",
        "outputId": "0f0f05e3-281c-4e04-f48a-3b6201ed5f0c"
      },
      "outputs": [
        {
          "output_type": "execute_result",
          "data": {
            "text/plain": [
              "<Axes: ylabel='Frequency'>"
            ]
          },
          "metadata": {},
          "execution_count": 19
        },
        {
          "output_type": "display_data",
          "data": {
            "text/plain": [
              "<Figure size 640x480 with 1 Axes>"
            ],
            "image/png": "[encoded data removed]"
          },
          "metadata": {}
        }
      ],
      "source": [
        "#\n",
        "data['totChol'].plot(kind='hist', bins = 30)"
      ]
    },
    {
      "cell_type": "code",
      "execution_count": 20,
      "id": "073626c9-0e7e-4151-a443-bd56a12c546d",
      "metadata": {
        "colab": {
          "base_uri": "https://localhost:8080/",
          "height": 447
        },
        "id": "073626c9-0e7e-4151-a443-bd56a12c546d",
        "outputId": "4025730d-e471-45fa-a4b8-de0bf027614c"
      },
      "outputs": [
        {
          "output_type": "execute_result",
          "data": {
            "text/plain": [
              "<Axes: ylabel='Frequency'>"
            ]
          },
          "metadata": {},
          "execution_count": 20
        },
        {
          "output_type": "display_data",
          "data": {
            "text/plain": [
              "<Figure size 640x480 with 1 Axes>"
            ],
            "image/png": "[encoded data removed]"
          },
          "metadata": {}
        }
      ],
      "source": [
        "#systolic blood pressure\n",
        "data['sysBP'].plot(kind='hist', bins = 30)"
      ]
    },
    {
      "cell_type": "code",
      "execution_count": 21,
      "id": "46189259-e8a8-441e-80fa-648f3be30c26",
      "metadata": {
        "colab": {
          "base_uri": "https://localhost:8080/",
          "height": 447
        },
        "id": "46189259-e8a8-441e-80fa-648f3be30c26",
        "outputId": "9b3a6bc7-3d2f-4dd9-ca6b-9448075f83ae"
      },
      "outputs": [
        {
          "output_type": "execute_result",
          "data": {
            "text/plain": [
              "<Axes: ylabel='Frequency'>"
            ]
          },
          "metadata": {},
          "execution_count": 21
        },
        {
          "output_type": "display_data",
          "data": {
            "text/plain": [
              "<Figure size 640x480 with 1 Axes>"
            ],
            "image/png": "[encoded data removed]"
          },
          "metadata": {}
        }
      ],
      "source": [
        "#diastolic blood pressure\n",
        "data['diaBP'].plot(kind='hist', bins = 30)"
      ]
    },
    {
      "cell_type": "code",
      "execution_count": 22,
      "id": "47fd3efe-b686-47be-97f2-0f0cfaece7ce",
      "metadata": {
        "colab": {
          "base_uri": "https://localhost:8080/",
          "height": 447
        },
        "id": "47fd3efe-b686-47be-97f2-0f0cfaece7ce",
        "outputId": "d16d3ddc-78c9-4a6a-9cfc-488dbd85417f"
      },
      "outputs": [
        {
          "output_type": "execute_result",
          "data": {
            "text/plain": [
              "<Axes: ylabel='Frequency'>"
            ]
          },
          "metadata": {},
          "execution_count": 22
        },
        {
          "output_type": "display_data",
          "data": {
            "text/plain": [
              "<Figure size 640x480 with 1 Axes>"
            ],
            "image/png": "[encoded data removed]"
          },
          "metadata": {}
        }
      ],
      "source": [
        "#\n",
        "data['BMI'].plot(kind='hist', bins = 30)"
      ]
    },
    {
      "cell_type": "code",
      "execution_count": 23,
      "id": "baf79ba6-bdfc-4bdd-81d3-157b9efb9e5f",
      "metadata": {
        "colab": {
          "base_uri": "https://localhost:8080/",
          "height": 447
        },
        "id": "baf79ba6-bdfc-4bdd-81d3-157b9efb9e5f",
        "outputId": "d1e74020-4596-471f-dcf9-319672a8c473"
      },
      "outputs": [
        {
          "output_type": "execute_result",
          "data": {
            "text/plain": [
              "<Axes: ylabel='Frequency'>"
            ]
          },
          "metadata": {},
          "execution_count": 23
        },
        {
          "output_type": "display_data",
          "data": {
            "text/plain": [
              "<Figure size 640x480 with 1 Axes>"
            ],
            "image/png": "[encoded data removed]"
          },
          "metadata": {}
        }
      ],
      "source": [
        "# the heart rate of the people on the\n",
        "data['heartRate'].plot(kind='hist', bins = 30)"
      ]
    },
    {
      "cell_type": "code",
      "execution_count": 24,
      "id": "6c386ebb-e659-4090-b5e4-fe5609d71486",
      "metadata": {
        "id": "6c386ebb-e659-4090-b5e4-fe5609d71486",
        "outputId": "8153e94e-e180-4923-dcb7-f8263268874a",
        "colab": {
          "base_uri": "https://localhost:8080/",
          "height": 447
        }
      },
      "outputs": [
        {
          "output_type": "execute_result",
          "data": {
            "text/plain": [
              "<Axes: ylabel='Frequency'>"
            ]
          },
          "metadata": {},
          "execution_count": 24
        },
        {
          "output_type": "display_data",
          "data": {
            "text/plain": [
              "<Figure size 640x480 with 1 Axes>"
            ],
            "image/png": "[encoded data removed]"
          },
          "metadata": {}
        }
      ],
      "source": [
        "data['glucose'].plot(kind='hist', bins=30)"
      ]
    },
    {
      "cell_type": "code",
      "execution_count": 25,
      "id": "1ea4a457-9368-4105-ae2a-997944c9f740",
      "metadata": {
        "id": "1ea4a457-9368-4105-ae2a-997944c9f740",
        "outputId": "a0697d3a-3e1b-41e9-a4c4-32e7128e7123",
        "colab": {
          "base_uri": "https://localhost:8080/",
          "height": 442
        }
      },
      "outputs": [
        {
          "output_type": "execute_result",
          "data": {
            "text/plain": [
              "<Axes: >"
            ]
          },
          "metadata": {},
          "execution_count": 25
        },
        {
          "output_type": "display_data",
          "data": {
            "text/plain": [
              "<Figure size 640x480 with 1 Axes>"
            ],
            "image/png": "[encoded data removed]"
          },
          "metadata": {}
        }
      ],
      "source": [
        "data['TenYearCHD'].value_counts().plot(kind='bar')"
      ]
    },
    {
      "cell_type": "code",
      "source": [
        "#check for NaN\n",
        "data.isna().sum()"
      ],
      "metadata": {
        "colab": {
          "base_uri": "https://localhost:8080/"
        },
        "id": "JbbbAp5LGLDt",
        "outputId": "2aca5a33-78fa-46dc-fbff-e19d48fce2a0"
      },
      "id": "JbbbAp5LGLDt",
      "execution_count": 26,
      "outputs": [
        {
          "output_type": "execute_result",
          "data": {
            "text/plain": [
              "male                 0\n",
              "age                  0\n",
              "education          105\n",
              "currentSmoker        0\n",
              "cigsPerDay          29\n",
              "BPMeds              53\n",
              "prevalentStroke      0\n",
              "prevalentHyp         0\n",
              "diabetes             0\n",
              "totChol             50\n",
              "sysBP                0\n",
              "diaBP                0\n",
              "BMI                 19\n",
              "heartRate            1\n",
              "glucose            388\n",
              "TenYearCHD           0\n",
              "dtype: int64"
            ]
          },
          "metadata": {},
          "execution_count": 26
        }
      ]
    },
    {
      "cell_type": "code",
      "source": [
        "#check for ordinal vs numerical\n",
        "data.info()"
      ],
      "metadata": {
        "colab": {
          "base_uri": "https://localhost:8080/"
        },
        "id": "0-Ki0KW_dSLV",
        "outputId": "85337c5d-cdb0-4342-d3b4-c5ffea27623c"
      },
      "id": "0-Ki0KW_dSLV",
      "execution_count": 27,
      "outputs": [
        {
          "output_type": "stream",
          "name": "stdout",
          "text": [
            "<class 'pandas.core.frame.DataFrame'>\n",
            "RangeIndex: 4240 entries, 0 to 4239\n",
            "Data columns (total 16 columns):\n",
            " #   Column           Non-Null Count  Dtype  \n",
            "---  ------           --------------  -----  \n",
            " 0   male             4240 non-null   int64  \n",
            " 1   age              4240 non-null   int64  \n",
            " 2   education        4135 non-null   float64\n",
            " 3   currentSmoker    4240 non-null   int64  \n",
            " 4   cigsPerDay       4211 non-null   float64\n",
            " 5   BPMeds           4187 non-null   float64\n",
            " 6   prevalentStroke  4240 non-null   int64  \n",
            " 7   prevalentHyp     4240 non-null   int64  \n",
            " 8   diabetes         4240 non-null   int64  \n",
            " 9   totChol          4190 non-null   float64\n",
            " 10  sysBP            4240 non-null   float64\n",
            " 11  diaBP            4240 non-null   float64\n",
            " 12  BMI              4221 non-null   float64\n",
            " 13  heartRate        4239 non-null   float64\n",
            " 14  glucose          3852 non-null   float64\n",
            " 15  TenYearCHD       4240 non-null   int64  \n",
            "dtypes: float64(9), int64(7)\n",
            "memory usage: 530.1 KB\n"
          ]
        }
      ]
    },
    {
      "cell_type": "code",
      "source": [
        "from sklearn.experimental import enable_iterative_imputer\n",
        "from sklearn.impute import IterativeImputer\n",
        "\n",
        "copy_data = data.copy()  # Make a copy to avoid modifying original data\n",
        "\n",
        "# Impute missing values\n",
        "imputer = IterativeImputer(random_state=0, max_iter=10, min_value = 0)\n",
        "imputer.fit(copy_data)\n",
        "copy_data[:] = imputer.transform(copy_data)"
      ],
      "metadata": {
        "colab": {
          "base_uri": "https://localhost:8080/"
        },
        "id": "wxg92jzydQQQ",
        "outputId": "23b0231c-f36b-4c1c-a72e-94fd89e6a23d"
      },
      "id": "wxg92jzydQQQ",
      "execution_count": 28,
      "outputs": [
        {
          "output_type": "stream",
          "name": "stderr",
          "text": [
            "<ipython-input-28-bd859c351d8d>:9: DeprecationWarning: In a future version, `df.iloc[:, i] = newvals` will attempt to set the values inplace instead of always setting a new array. To retain the old behavior, use either `df[df.columns[i]] = newvals` or, if columns are non-unique, `df.isetitem(i, newvals)`\n",
            "  copy_data[:] = imputer.transform(copy_data)\n"
          ]
        }
      ]
    },
    {
      "cell_type": "code",
      "source": [
        "imputed_data = copy_data"
      ],
      "metadata": {
        "id": "lt-Kgz2neVfr"
      },
      "id": "lt-Kgz2neVfr",
      "execution_count": 30,
      "outputs": []
    },
    {
      "cell_type": "code",
      "source": [
        "# Encode the target variable\n",
        "from sklearn.preprocessing import LabelEncoder\n",
        "le = LabelEncoder()\n",
        "imputed_data['TenYearCHD'] = le.fit_transform(imputed_data['TenYearCHD'])\n",
        "dropped_data['TenYearCHD'] = le.fit_transform(dropped_data['TenYearCHD'])"
      ],
      "metadata": {
        "colab": {
          "base_uri": "https://localhost:8080/"
        },
        "id": "OOQKcht1yW2h",
        "outputId": "ac2b5b84-01f4-4c95-914d-25351356eb05"
      },
      "id": "OOQKcht1yW2h",
      "execution_count": 33,
      "outputs": [
        {
          "output_type": "stream",
          "name": "stderr",
          "text": [
            "<ipython-input-33-0dab4594fd08>:5: SettingWithCopyWarning: \n",
            "A value is trying to be set on a copy of a slice from a DataFrame.\n",
            "Try using .loc[row_indexer,col_indexer] = value instead\n",
            "\n",
            "See the caveats in the documentation: https://pandas.pydata.org/pandas-docs/stable/user_guide/indexing.html#returning-a-view-versus-a-copy\n",
            "  dropped_data['TenYearCHD'] = le.fit_transform(dropped_data['TenYearCHD'])\n"
          ]
        }
      ]
    },
    {
      "cell_type": "code",
      "source": [
        "\n",
        "# create dataset with dropped any null values\n",
        "dropped_data = data.dropna()"
      ],
      "metadata": {
        "id": "3Jx05_vkyFb6"
      },
      "id": "3Jx05_vkyFb6",
      "execution_count": 34,
      "outputs": []
    },
    {
      "cell_type": "code",
      "source": [
        "#create test and training set\n",
        "from sklearn.model_selection import train_test_split\n",
        "\n",
        "dropped_train, dropped_test = train_test_split(dropped_data, test_size=0.2)"
      ],
      "metadata": {
        "id": "Jk8TB_mRexP0"
      },
      "execution_count": 35,
      "outputs": [],
      "id": "Jk8TB_mRexP0"
    },
    {
      "cell_type": "code",
      "source": [
        "#create test and training set for imputed dataset\n",
        "from sklearn.model_selection import train_test_split\n",
        "\n",
        "imputed_train, imputed_test = train_test_split(imputed_data, test_size=0.2)"
      ],
      "metadata": {
        "id": "B9uhlIbyUp7J"
      },
      "execution_count": 36,
      "outputs": [],
      "id": "B9uhlIbyUp7J"
    },
    {
      "cell_type": "code",
      "source": [
        "#Decision Trees on normal data\n",
        "# use tree.DecisionTreeClassifier()\n",
        "# train the decision tree model\n",
        "from sklearn import tree\n",
        "from sklearn.tree import DecisionTreeClassifier\n",
        "from sklearn.model_selection import cross_val_score\n",
        "clf = DecisionTreeClassifier(random_state=0)\n",
        "clf = clf.fit(imputed_train.loc[:, imputed_train.columns != 'TenYearCHD'], imputed_train['TenYearCHD'])"
      ],
      "metadata": {
        "id": "e08UL40PexP3"
      },
      "execution_count": 37,
      "outputs": [],
      "id": "e08UL40PexP3"
    },
    {
      "cell_type": "code",
      "source": [
        "#Decision Trees on dropped data\n",
        "# drop all na values\n",
        "data.dropna()\n",
        "# use tree.DecisionTreeClassifier()\n",
        "# train the decision tree model\n",
        "from sklearn import tree\n",
        "from sklearn.tree import DecisionTreeClassifier\n",
        "from sklearn.model_selection import cross_val_score\n",
        "clfd = DecisionTreeClassifier(random_state=0)\n",
        "clfd = clf.fit(dropped_train.loc[:, dropped_train.columns != 'TenYearCHD'], dropped_train['TenYearCHD'])"
      ],
      "metadata": {
        "id": "7C2ptDFke2uz"
      },
      "execution_count": 39,
      "outputs": [],
      "id": "7C2ptDFke2uz"
    },
    {
      "cell_type": "code",
      "source": [
        "from sklearn.metrics import accuracy_score\n",
        "# test the decision tree model with null data dropped\n",
        "y_pred = clfd.predict(dropped_test.loc[:, dropped_test.columns != 'TenYearCHD'])\n",
        "print(\"Accuracy:\", accuracy_score(dropped_test['TenYearCHD'], y_pred))"
      ],
      "metadata": {
        "id": "ENs-Mm1ufAQT",
        "colab": {
          "base_uri": "https://localhost:8080/"
        },
        "outputId": "89345708-c0ee-4543-f265-742345568076"
      },
      "execution_count": 41,
      "outputs": [
        {
          "output_type": "stream",
          "name": "stdout",
          "text": [
            "Accuracy: 0.7418032786885246\n"
          ]
        }
      ],
      "id": "ENs-Mm1ufAQT"
    },
    {
      "cell_type": "code",
      "source": [
        "# test the decision tree model with null data imputed\n",
        "y_pred = clf.predict(imputed_test.loc[:, imputed_test.columns != 'TenYearCHD'])\n",
        "print(\"Accuracy:\", accuracy_score(imputed_test['TenYearCHD'], y_pred))"
      ],
      "metadata": {
        "id": "dC9d1pEZfAgk",
        "colab": {
          "base_uri": "https://localhost:8080/"
        },
        "outputId": "65ea0666-554d-4e96-d973-31a28cdbddee"
      },
      "execution_count": 43,
      "outputs": [
        {
          "output_type": "stream",
          "name": "stdout",
          "text": [
            "Accuracy: 0.9209905660377359\n"
          ]
        }
      ],
      "id": "dC9d1pEZfAgk"
    },
    {
      "cell_type": "code",
      "source": [
        "#Logistic Regression\n",
        "# use LogisticRegression(random_state=0).fit(X, y)\n",
        "from sklearn.linear_model import LogisticRegression\n",
        "lr = LogisticRegression(random_state=0).fit(imputed_train.loc[:, imputed_train.columns != 'TenYearCHD'], imputed_train['TenYearCHD'])"
      ],
      "metadata": {
        "id": "gCGoL_E9mglr",
        "colab": {
          "base_uri": "https://localhost:8080/"
        },
        "outputId": "80c2dcb8-49dd-4de7-a741-2090525bab00"
      },
      "execution_count": 45,
      "outputs": [
        {
          "output_type": "stream",
          "name": "stderr",
          "text": [
            "/usr/local/lib/python3.10/dist-packages/sklearn/linear_model/_logistic.py:458: ConvergenceWarning: lbfgs failed to converge (status=1):\n",
            "STOP: TOTAL NO. of ITERATIONS REACHED LIMIT.\n",
            "\n",
            "Increase the number of iterations (max_iter) or scale the data as shown in:\n",
            "    https://scikit-learn.org/stable/modules/preprocessing.html\n",
            "Please also refer to the documentation for alternative solver options:\n",
            "    https://scikit-learn.org/stable/modules/linear_model.html#logistic-regression\n",
            "  n_iter_i = _check_optimize_result(\n"
          ]
        }
      ],
      "id": "gCGoL_E9mglr"
    },
    {
      "cell_type": "code",
      "source": [
        "#Logistic Regression for data with NA values dropped\n",
        "# use LogisticRegression(random_state=0).fit(X, y)\n",
        "from sklearn.linear_model import LogisticRegression\n",
        "lrd = LogisticRegression(random_state=0).fit(dropped_train.loc[:, dropped_train.columns != 'TenYearCHD'], dropped_train['TenYearCHD'])"
      ],
      "metadata": {
        "id": "zSoUgHb5hz4F",
        "colab": {
          "base_uri": "https://localhost:8080/"
        },
        "outputId": "c39abc08-f9e9-4b7f-834b-564a825ca032"
      },
      "execution_count": 46,
      "outputs": [
        {
          "output_type": "stream",
          "name": "stderr",
          "text": [
            "/usr/local/lib/python3.10/dist-packages/sklearn/linear_model/_logistic.py:458: ConvergenceWarning: lbfgs failed to converge (status=1):\n",
            "STOP: TOTAL NO. of ITERATIONS REACHED LIMIT.\n",
            "\n",
            "Increase the number of iterations (max_iter) or scale the data as shown in:\n",
            "    https://scikit-learn.org/stable/modules/preprocessing.html\n",
            "Please also refer to the documentation for alternative solver options:\n",
            "    https://scikit-learn.org/stable/modules/linear_model.html#logistic-regression\n",
            "  n_iter_i = _check_optimize_result(\n"
          ]
        }
      ],
      "id": "zSoUgHb5hz4F"
    },
    {
      "cell_type": "code",
      "source": [
        "y_pred = lr.predict(imputed_test.loc[:, imputed_test.columns != 'TenYearCHD'])\n",
        "print(\"Accuracy:\", accuracy_score(imputed_test['TenYearCHD'], y_pred))"
      ],
      "metadata": {
        "id": "wGW2PjZtiFyr",
        "colab": {
          "base_uri": "https://localhost:8080/"
        },
        "outputId": "9d30f56f-8c9c-43cc-cbbe-e8c16830d181"
      },
      "execution_count": 48,
      "outputs": [
        {
          "output_type": "stream",
          "name": "stdout",
          "text": [
            "Accuracy: 0.8561320754716981\n"
          ]
        }
      ],
      "id": "wGW2PjZtiFyr"
    },
    {
      "cell_type": "code",
      "source": [
        "y_pred = lrd.predict(dropped_test.loc[:, dropped_test.columns != 'TenYearCHD'])\n",
        "print(\"Accuracy:\", accuracy_score(dropped_test['TenYearCHD'], y_pred))"
      ],
      "metadata": {
        "id": "VIDaYZLliF4o",
        "colab": {
          "base_uri": "https://localhost:8080/"
        },
        "outputId": "810ad123-ff79-44cc-b636-d7636eef0ad1"
      },
      "execution_count": 49,
      "outputs": [
        {
          "output_type": "stream",
          "name": "stdout",
          "text": [
            "Accuracy: 0.837431693989071\n"
          ]
        }
      ],
      "id": "VIDaYZLliF4o"
    },
    {
      "cell_type": "code",
      "source": [
        "#XGBoost (Extreme Gradient Boosting) for dropped data\n",
        "#xgb.DMatrix(data, label=label)\n",
        "import xgboost as xgb\n",
        "xm = xgb.DMatrix(dropped_train.loc[:, dropped_train.columns != 'TenYearCHD'], dropped_train['TenYearCHD'], enable_categorical=True)"
      ],
      "metadata": {
        "id": "zTtgA542miJh"
      },
      "execution_count": 50,
      "outputs": [],
      "id": "zTtgA542miJh"
    },
    {
      "cell_type": "code",
      "source": [
        "#XGBoost (Extreme Gradient Boosting) for imputed data\n",
        "#xgb.DMatrix(data, label=label)\n",
        "import xgboost as xgb\n",
        "xmd = xgb.DMatrix(imputed_train.loc[:, imputed_train.columns != 'TenYearCHD'], imputed_train['TenYearCHD'], enable_categorical=True)"
      ],
      "metadata": {
        "id": "TJeYny1YiJ1m"
      },
      "execution_count": 51,
      "outputs": [],
      "id": "TJeYny1YiJ1m"
    },
    {
      "cell_type": "code",
      "source": [
        "#dropped\n",
        "params = {\"objective\": \"multi:softprob\", \"tree_method\": \"hist\", \"num_class\": 2}\n",
        "n = 100\n",
        "\n",
        "resultsd = xgb.cv(\n",
        "   params, xmd,\n",
        "   num_boost_round=n,\n",
        "   nfold=5,\n",
        "   metrics=[\"mlogloss\", \"auc\", \"merror\"],\n",
        ")"
      ],
      "metadata": {
        "id": "dObw8H4diJ-W"
      },
      "execution_count": 55,
      "outputs": [],
      "id": "dObw8H4diJ-W"
    },
    {
      "cell_type": "code",
      "source": [
        "resultsd"
      ],
      "metadata": {
        "colab": {
          "base_uri": "https://localhost:8080/",
          "height": 424
        },
        "id": "Z8z3ziWqzRTo",
        "outputId": "211cc12d-6592-45b5-81ee-828c84d3c83c"
      },
      "id": "Z8z3ziWqzRTo",
      "execution_count": 56,
      "outputs": [
        {
          "output_type": "execute_result",
          "data": {
            "text/plain": [
              "    train-mlogloss-mean  train-mlogloss-std  train-auc-mean  train-auc-std  \\\n",
              "0              0.546367            0.001062        0.759774       0.007486   \n",
              "1              0.463988            0.002068        0.796619       0.012912   \n",
              "2              0.410665            0.001739        0.826454       0.006114   \n",
              "3              0.373852            0.001873        0.847784       0.006253   \n",
              "4              0.344621            0.002203        0.873463       0.007376   \n",
              "..                  ...                 ...             ...            ...   \n",
              "95             0.045842            0.002046        1.000000       0.000000   \n",
              "96             0.045136            0.002248        1.000000       0.000000   \n",
              "97             0.044292            0.001803        1.000000       0.000000   \n",
              "98             0.043669            0.001810        1.000000       0.000000   \n",
              "99             0.042965            0.001993        1.000000       0.000000   \n",
              "\n",
              "    train-merror-mean  train-merror-std  test-mlogloss-mean  \\\n",
              "0            0.130675          0.001984            0.562149   \n",
              "1            0.125147          0.002850            0.492756   \n",
              "2            0.123526          0.002223            0.453198   \n",
              "3            0.121020          0.001241            0.429975   \n",
              "4            0.117556          0.001558            0.417434   \n",
              "..                ...               ...                 ...   \n",
              "95           0.000811          0.000541            0.542779   \n",
              "96           0.000737          0.000404            0.544337   \n",
              "97           0.000590          0.000500            0.545465   \n",
              "98           0.000516          0.000500            0.546543   \n",
              "99           0.000516          0.000500            0.548063   \n",
              "\n",
              "    test-mlogloss-std  test-auc-mean  test-auc-std  test-merror-mean  \\\n",
              "0            0.003443       0.674457      0.006747          0.165977   \n",
              "1            0.004123       0.695873      0.007071          0.165386   \n",
              "2            0.005766       0.695259      0.013107          0.163027   \n",
              "3            0.006504       0.691710      0.012772          0.163321   \n",
              "4            0.005987       0.689548      0.011597          0.163026   \n",
              "..                ...            ...           ...               ...   \n",
              "95           0.021064       0.633790      0.024993          0.171875   \n",
              "96           0.020543       0.633445      0.024001          0.170696   \n",
              "97           0.019823       0.633633      0.024265          0.171580   \n",
              "98           0.019570       0.634174      0.024469          0.171580   \n",
              "99           0.019520       0.633793      0.023577          0.170696   \n",
              "\n",
              "    test-merror-std  \n",
              "0          0.010947  \n",
              "1          0.011654  \n",
              "2          0.008614  \n",
              "3          0.009721  \n",
              "4          0.009720  \n",
              "..              ...  \n",
              "95         0.002872  \n",
              "96         0.002878  \n",
              "97         0.003798  \n",
              "98         0.004214  \n",
              "99         0.003408  \n",
              "\n",
              "[100 rows x 12 columns]"
            ],
            "text/html": [
              "\n",
              "  <div id=\"df-48529909-81ca-4f54-a819-baf0489291c6\" class=\"colab-df-container\">\n",
              "    <div>\n",
              "<style scoped>\n",
              "    .dataframe tbody tr th:only-of-type {\n",
              "        vertical-align: middle;\n",
              "    }\n",
              "\n",
              "    .dataframe tbody tr th {\n",
              "        vertical-align: top;\n",
              "    }\n",
              "\n",
              "    .dataframe thead th {\n",
              "        text-align: right;\n",
              "    }\n",
              "</style>\n",
              "<table border=\"1\" class=\"dataframe\">\n",
              "  <thead>\n",
              "    <tr style=\"text-align: right;\">\n",
              "      <th></th>\n",
              "      <th>train-mlogloss-mean</th>\n",
              "      <th>train-mlogloss-std</th>\n",
              "      <th>train-auc-mean</th>\n",
              "      <th>train-auc-std</th>\n",
              "      <th>train-merror-mean</th>\n",
              "      <th>train-merror-std</th>\n",
              "      <th>test-mlogloss-mean</th>\n",
              "      <th>test-mlogloss-std</th>\n",
              "      <th>test-auc-mean</th>\n",
              "      <th>test-auc-std</th>\n",
              "      <th>test-merror-mean</th>\n",
              "      <th>test-merror-std</th>\n",
              "    </tr>\n",
              "  </thead>\n",
              "  <tbody>\n",
              "    <tr>\n",
              "      <th>0</th>\n",
              "      <td>0.546367</td>\n",
              "      <td>0.001062</td>\n",
              "      <td>0.759774</td>\n",
              "      <td>0.007486</td>\n",
              "      <td>0.130675</td>\n",
              "      <td>0.001984</td>\n",
              "      <td>0.562149</td>\n",
              "      <td>0.003443</td>\n",
              "      <td>0.674457</td>\n",
              "      <td>0.006747</td>\n",
              "      <td>0.165977</td>\n",
              "      <td>0.010947</td>\n",
              "    </tr>\n",
              "    <tr>\n",
              "      <th>1</th>\n",
              "      <td>0.463988</td>\n",
              "      <td>0.002068</td>\n",
              "      <td>0.796619</td>\n",
              "      <td>0.012912</td>\n",
              "      <td>0.125147</td>\n",
              "      <td>0.002850</td>\n",
              "      <td>0.492756</td>\n",
              "      <td>0.004123</td>\n",
              "      <td>0.695873</td>\n",
              "      <td>0.007071</td>\n",
              "      <td>0.165386</td>\n",
              "      <td>0.011654</td>\n",
              "    </tr>\n",
              "    <tr>\n",
              "      <th>2</th>\n",
              "      <td>0.410665</td>\n",
              "      <td>0.001739</td>\n",
              "      <td>0.826454</td>\n",
              "      <td>0.006114</td>\n",
              "      <td>0.123526</td>\n",
              "      <td>0.002223</td>\n",
              "      <td>0.453198</td>\n",
              "      <td>0.005766</td>\n",
              "      <td>0.695259</td>\n",
              "      <td>0.013107</td>\n",
              "      <td>0.163027</td>\n",
              "      <td>0.008614</td>\n",
              "    </tr>\n",
              "    <tr>\n",
              "      <th>3</th>\n",
              "      <td>0.373852</td>\n",
              "      <td>0.001873</td>\n",
              "      <td>0.847784</td>\n",
              "      <td>0.006253</td>\n",
              "      <td>0.121020</td>\n",
              "      <td>0.001241</td>\n",
              "      <td>0.429975</td>\n",
              "      <td>0.006504</td>\n",
              "      <td>0.691710</td>\n",
              "      <td>0.012772</td>\n",
              "      <td>0.163321</td>\n",
              "      <td>0.009721</td>\n",
              "    </tr>\n",
              "    <tr>\n",
              "      <th>4</th>\n",
              "      <td>0.344621</td>\n",
              "      <td>0.002203</td>\n",
              "      <td>0.873463</td>\n",
              "      <td>0.007376</td>\n",
              "      <td>0.117556</td>\n",
              "      <td>0.001558</td>\n",
              "      <td>0.417434</td>\n",
              "      <td>0.005987</td>\n",
              "      <td>0.689548</td>\n",
              "      <td>0.011597</td>\n",
              "      <td>0.163026</td>\n",
              "      <td>0.009720</td>\n",
              "    </tr>\n",
              "    <tr>\n",
              "      <th>...</th>\n",
              "      <td>...</td>\n",
              "      <td>...</td>\n",
              "      <td>...</td>\n",
              "      <td>...</td>\n",
              "      <td>...</td>\n",
              "      <td>...</td>\n",
              "      <td>...</td>\n",
              "      <td>...</td>\n",
              "      <td>...</td>\n",
              "      <td>...</td>\n",
              "      <td>...</td>\n",
              "      <td>...</td>\n",
              "    </tr>\n",
              "    <tr>\n",
              "      <th>95</th>\n",
              "      <td>0.045842</td>\n",
              "      <td>0.002046</td>\n",
              "      <td>1.000000</td>\n",
              "      <td>0.000000</td>\n",
              "      <td>0.000811</td>\n",
              "      <td>0.000541</td>\n",
              "      <td>0.542779</td>\n",
              "      <td>0.021064</td>\n",
              "      <td>0.633790</td>\n",
              "      <td>0.024993</td>\n",
              "      <td>0.171875</td>\n",
              "      <td>0.002872</td>\n",
              "    </tr>\n",
              "    <tr>\n",
              "      <th>96</th>\n",
              "      <td>0.045136</td>\n",
              "      <td>0.002248</td>\n",
              "      <td>1.000000</td>\n",
              "      <td>0.000000</td>\n",
              "      <td>0.000737</td>\n",
              "      <td>0.000404</td>\n",
              "      <td>0.544337</td>\n",
              "      <td>0.020543</td>\n",
              "      <td>0.633445</td>\n",
              "      <td>0.024001</td>\n",
              "      <td>0.170696</td>\n",
              "      <td>0.002878</td>\n",
              "    </tr>\n",
              "    <tr>\n",
              "      <th>97</th>\n",
              "      <td>0.044292</td>\n",
              "      <td>0.001803</td>\n",
              "      <td>1.000000</td>\n",
              "      <td>0.000000</td>\n",
              "      <td>0.000590</td>\n",
              "      <td>0.000500</td>\n",
              "      <td>0.545465</td>\n",
              "      <td>0.019823</td>\n",
              "      <td>0.633633</td>\n",
              "      <td>0.024265</td>\n",
              "      <td>0.171580</td>\n",
              "      <td>0.003798</td>\n",
              "    </tr>\n",
              "    <tr>\n",
              "      <th>98</th>\n",
              "      <td>0.043669</td>\n",
              "      <td>0.001810</td>\n",
              "      <td>1.000000</td>\n",
              "      <td>0.000000</td>\n",
              "      <td>0.000516</td>\n",
              "      <td>0.000500</td>\n",
              "      <td>0.546543</td>\n",
              "      <td>0.019570</td>\n",
              "      <td>0.634174</td>\n",
              "      <td>0.024469</td>\n",
              "      <td>0.171580</td>\n",
              "      <td>0.004214</td>\n",
              "    </tr>\n",
              "    <tr>\n",
              "      <th>99</th>\n",
              "      <td>0.042965</td>\n",
              "      <td>0.001993</td>\n",
              "      <td>1.000000</td>\n",
              "      <td>0.000000</td>\n",
              "      <td>0.000516</td>\n",
              "      <td>0.000500</td>\n",
              "      <td>0.548063</td>\n",
              "      <td>0.019520</td>\n",
              "      <td>0.633793</td>\n",
              "      <td>0.023577</td>\n",
              "      <td>0.170696</td>\n",
              "      <td>0.003408</td>\n",
              "    </tr>\n",
              "  </tbody>\n",
              "</table>\n",
              "<p>100 rows × 12 columns</p>\n",
              "</div>\n",
              "    <div class=\"colab-df-buttons\">\n",
              "\n",
              "  <div class=\"colab-df-container\">\n",
              "    <button class=\"colab-df-convert\" onclick=\"convertToInteractive('df-48529909-81ca-4f54-a819-baf0489291c6')\"\n",
              "            title=\"Convert this dataframe to an interactive table.\"\n",
              "            style=\"display:none;\">\n",
              "\n",
              "  <svg xmlns=\"http://www.w3.org/2000/svg\" height=\"24px\" viewBox=\"0 -960 960 960\">\n",
              "    <path d=\"M120-120v-720h720v720H120Zm60-500h600v-160H180v160Zm220 220h160v-160H400v160Zm0 220h160v-160H400v160ZM180-400h160v-160H180v160Zm440 0h160v-160H620v160ZM180-180h160v-160H180v160Zm440 0h160v-160H620v160Z\"/>\n",
              "  </svg>\n",
              "    </button>\n",
              "\n",
              "  <style>\n",
              "    .colab-df-container {\n",
              "      display:flex;\n",
              "      gap: 12px;\n",
              "    }\n",
              "\n",
              "    .colab-df-convert {\n",
              "      background-color: #E8F0FE;\n",
              "      border: none;\n",
              "      border-radius: 50%;\n",
              "      cursor: pointer;\n",
              "      display: none;\n",
              "      fill: #1967D2;\n",
              "      height: 32px;\n",
              "      padding: 0 0 0 0;\n",
              "      width: 32px;\n",
              "    }\n",
              "\n",
              "    .colab-df-convert:hover {\n",
              "      background-color: #E2EBFA;\n",
              "      box-shadow: 0px 1px 2px rgba(60, 64, 67, 0.3), 0px 1px 3px 1px rgba(60, 64, 67, 0.15);\n",
              "      fill: #174EA6;\n",
              "    }\n",
              "\n",
              "    .colab-df-buttons div {\n",
              "      margin-bottom: 4px;\n",
              "    }\n",
              "\n",
              "    [theme=dark] .colab-df-convert {\n",
              "      background-color: #3B4455;\n",
              "      fill: #D2E3FC;\n",
              "    }\n",
              "\n",
              "    [theme=dark] .colab-df-convert:hover {\n",
              "      background-color: #434B5C;\n",
              "      box-shadow: 0px 1px 3px 1px rgba(0, 0, 0, 0.15);\n",
              "      filter: drop-shadow(0px 1px 2px rgba(0, 0, 0, 0.3));\n",
              "      fill: #FFFFFF;\n",
              "    }\n",
              "  </style>\n",
              "\n",
              "    <script>\n",
              "      const buttonEl =\n",
              "        document.querySelector('#df-48529909-81ca-4f54-a819-baf0489291c6 button.colab-df-convert');\n",
              "      buttonEl.style.display =\n",
              "        google.colab.kernel.accessAllowed ? 'block' : 'none';\n",
              "\n",
              "      async function convertToInteractive(key) {\n",
              "        const element = document.querySelector('#df-48529909-81ca-4f54-a819-baf0489291c6');\n",
              "        const dataTable =\n",
              "          await google.colab.kernel.invokeFunction('convertToInteractive',\n",
              "                                                    [key], {});\n",
              "        if (!dataTable) return;\n",
              "\n",
              "        const docLinkHtml = 'Like what you see? Visit the ' +\n",
              "          '<a target=\"_blank\" href=https://colab.research.google.com/notebooks/data_table.ipynb>data table notebook</a>'\n",
              "          + ' to learn more about interactive tables.';\n",
              "        element.innerHTML = '';\n",
              "        dataTable['output_type'] = 'display_data';\n",
              "        await google.colab.output.renderOutput(dataTable, element);\n",
              "        const docLink = document.createElement('div');\n",
              "        docLink.innerHTML = docLinkHtml;\n",
              "        element.appendChild(docLink);\n",
              "      }\n",
              "    </script>\n",
              "  </div>\n",
              "\n",
              "\n",
              "<div id=\"df-efd0de64-fed1-497c-b6cc-b0b270728e9d\">\n",
              "  <button class=\"colab-df-quickchart\" onclick=\"quickchart('df-efd0de64-fed1-497c-b6cc-b0b270728e9d')\"\n",
              "            title=\"Suggest charts\"\n",
              "            style=\"display:none;\">\n",
              "\n",
              "<svg xmlns=\"http://www.w3.org/2000/svg\" height=\"24px\"viewBox=\"0 0 24 24\"\n",
              "     width=\"24px\">\n",
              "    <g>\n",
              "        <path d=\"M19 3H5c-1.1 0-2 .9-2 2v14c0 1.1.9 2 2 2h14c1.1 0 2-.9 2-2V5c0-1.1-.9-2-2-2zM9 17H7v-7h2v7zm4 0h-2V7h2v10zm4 0h-2v-4h2v4z\"/>\n",
              "    </g>\n",
              "</svg>\n",
              "  </button>\n",
              "\n",
              "<style>\n",
              "  .colab-df-quickchart {\n",
              "      --bg-color: #E8F0FE;\n",
              "      --fill-color: #1967D2;\n",
              "      --hover-bg-color: #E2EBFA;\n",
              "      --hover-fill-color: #174EA6;\n",
              "      --disabled-fill-color: #AAA;\n",
              "      --disabled-bg-color: #DDD;\n",
              "  }\n",
              "\n",
              "  [theme=dark] .colab-df-quickchart {\n",
              "      --bg-color: #3B4455;\n",
              "      --fill-color: #D2E3FC;\n",
              "      --hover-bg-color: #434B5C;\n",
              "      --hover-fill-color: #FFFFFF;\n",
              "      --disabled-bg-color: #3B4455;\n",
              "      --disabled-fill-color: #666;\n",
              "  }\n",
              "\n",
              "  .colab-df-quickchart {\n",
              "    background-color: var(--bg-color);\n",
              "    border: none;\n",
              "    border-radius: 50%;\n",
              "    cursor: pointer;\n",
              "    display: none;\n",
              "    fill: var(--fill-color);\n",
              "    height: 32px;\n",
              "    padding: 0;\n",
              "    width: 32px;\n",
              "  }\n",
              "\n",
              "  .colab-df-quickchart:hover {\n",
              "    background-color: var(--hover-bg-color);\n",
              "    box-shadow: 0 1px 2px rgba(60, 64, 67, 0.3), 0 1px 3px 1px rgba(60, 64, 67, 0.15);\n",
              "    fill: var(--button-hover-fill-color);\n",
              "  }\n",
              "\n",
              "  .colab-df-quickchart-complete:disabled,\n",
              "  .colab-df-quickchart-complete:disabled:hover {\n",
              "    background-color: var(--disabled-bg-color);\n",
              "    fill: var(--disabled-fill-color);\n",
              "    box-shadow: none;\n",
              "  }\n",
              "\n",
              "  .colab-df-spinner {\n",
              "    border: 2px solid var(--fill-color);\n",
              "    border-color: transparent;\n",
              "    border-bottom-color: var(--fill-color);\n",
              "    animation:\n",
              "      spin 1s steps(1) infinite;\n",
              "  }\n",
              "\n",
              "  @keyframes spin {\n",
              "    0% {\n",
              "      border-color: transparent;\n",
              "      border-bottom-color: var(--fill-color);\n",
              "      border-left-color: var(--fill-color);\n",
              "    }\n",
              "    20% {\n",
              "      border-color: transparent;\n",
              "      border-left-color: var(--fill-color);\n",
              "      border-top-color: var(--fill-color);\n",
              "    }\n",
              "    30% {\n",
              "      border-color: transparent;\n",
              "      border-left-color: var(--fill-color);\n",
              "      border-top-color: var(--fill-color);\n",
              "      border-right-color: var(--fill-color);\n",
              "    }\n",
              "    40% {\n",
              "      border-color: transparent;\n",
              "      border-right-color: var(--fill-color);\n",
              "      border-top-color: var(--fill-color);\n",
              "    }\n",
              "    60% {\n",
              "      border-color: transparent;\n",
              "      border-right-color: var(--fill-color);\n",
              "    }\n",
              "    80% {\n",
              "      border-color: transparent;\n",
              "      border-right-color: var(--fill-color);\n",
              "      border-bottom-color: var(--fill-color);\n",
              "    }\n",
              "    90% {\n",
              "      border-color: transparent;\n",
              "      border-bottom-color: var(--fill-color);\n",
              "    }\n",
              "  }\n",
              "</style>\n",
              "\n",
              "  <script>\n",
              "    async function quickchart(key) {\n",
              "      const quickchartButtonEl =\n",
              "        document.querySelector('#' + key + ' button');\n",
              "      quickchartButtonEl.disabled = true;  // To prevent multiple clicks.\n",
              "      quickchartButtonEl.classList.add('colab-df-spinner');\n",
              "      try {\n",
              "        const charts = await google.colab.kernel.invokeFunction(\n",
              "            'suggestCharts', [key], {});\n",
              "      } catch (error) {\n",
              "        console.error('Error during call to suggestCharts:', error);\n",
              "      }\n",
              "      quickchartButtonEl.classList.remove('colab-df-spinner');\n",
              "      quickchartButtonEl.classList.add('colab-df-quickchart-complete');\n",
              "    }\n",
              "    (() => {\n",
              "      let quickchartButtonEl =\n",
              "        document.querySelector('#df-efd0de64-fed1-497c-b6cc-b0b270728e9d button');\n",
              "      quickchartButtonEl.style.display =\n",
              "        google.colab.kernel.accessAllowed ? 'block' : 'none';\n",
              "    })();\n",
              "  </script>\n",
              "</div>\n",
              "\n",
              "  <div id=\"id_569d9294-ef18-4fe0-98fa-fa7f8f11f1c5\">\n",
              "    <style>\n",
              "      .colab-df-generate {\n",
              "        background-color: #E8F0FE;\n",
              "        border: none;\n",
              "        border-radius: 50%;\n",
              "        cursor: pointer;\n",
              "        display: none;\n",
              "        fill: #1967D2;\n",
              "        height: 32px;\n",
              "        padding: 0 0 0 0;\n",
              "        width: 32px;\n",
              "      }\n",
              "\n",
              "      .colab-df-generate:hover {\n",
              "        background-color: #E2EBFA;\n",
              "        box-shadow: 0px 1px 2px rgba(60, 64, 67, 0.3), 0px 1px 3px 1px rgba(60, 64, 67, 0.15);\n",
              "        fill: #174EA6;\n",
              "      }\n",
              "\n",
              "      [theme=dark] .colab-df-generate {\n",
              "        background-color: #3B4455;\n",
              "        fill: #D2E3FC;\n",
              "      }\n",
              "\n",
              "      [theme=dark] .colab-df-generate:hover {\n",
              "        background-color: #434B5C;\n",
              "        box-shadow: 0px 1px 3px 1px rgba(0, 0, 0, 0.15);\n",
              "        filter: drop-shadow(0px 1px 2px rgba(0, 0, 0, 0.3));\n",
              "        fill: #FFFFFF;\n",
              "      }\n",
              "    </style>\n",
              "    <button class=\"colab-df-generate\" onclick=\"generateWithVariable('resultsd')\"\n",
              "            title=\"Generate code using this dataframe.\"\n",
              "            style=\"display:none;\">\n",
              "\n",
              "  <svg xmlns=\"http://www.w3.org/2000/svg\" height=\"24px\"viewBox=\"0 0 24 24\"\n",
              "       width=\"24px\">\n",
              "    <path d=\"M7,19H8.4L18.45,9,17,7.55,7,17.6ZM5,21V16.75L18.45,3.32a2,2,0,0,1,2.83,0l1.4,1.43a1.91,1.91,0,0,1,.58,1.4,1.91,1.91,0,0,1-.58,1.4L9.25,21ZM18.45,9,17,7.55Zm-12,3A5.31,5.31,0,0,0,4.9,8.1,5.31,5.31,0,0,0,1,6.5,5.31,5.31,0,0,0,4.9,4.9,5.31,5.31,0,0,0,6.5,1,5.31,5.31,0,0,0,8.1,4.9,5.31,5.31,0,0,0,12,6.5,5.46,5.46,0,0,0,6.5,12Z\"/>\n",
              "  </svg>\n",
              "    </button>\n",
              "    <script>\n",
              "      (() => {\n",
              "      const buttonEl =\n",
              "        document.querySelector('#id_569d9294-ef18-4fe0-98fa-fa7f8f11f1c5 button.colab-df-generate');\n",
              "      buttonEl.style.display =\n",
              "        google.colab.kernel.accessAllowed ? 'block' : 'none';\n",
              "\n",
              "      buttonEl.onclick = () => {\n",
              "        google.colab.notebook.generateWithVariable('resultsd');\n",
              "      }\n",
              "      })();\n",
              "    </script>\n",
              "  </div>\n",
              "\n",
              "    </div>\n",
              "  </div>\n"
            ],
            "application/vnd.google.colaboratory.intrinsic+json": {
              "type": "dataframe",
              "variable_name": "resultsd",
              "summary": "{\n  \"name\": \"resultsd\",\n  \"rows\": 100,\n  \"fields\": [\n    {\n      \"column\": \"train-mlogloss-mean\",\n      \"properties\": {\n        \"dtype\": \"number\",\n        \"std\": 0.09803529746055345,\n        \"min\": 0.04296470554240559,\n        \"max\": 0.5463672095812929,\n        \"num_unique_values\": 100,\n        \"samples\": [\n          0.056236679417203464,\n          0.09892443054768528,\n          0.07098655228299186\n        ],\n        \"semantic_type\": \"\",\n        \"description\": \"\"\n      }\n    },\n    {\n      \"column\": \"train-mlogloss-std\",\n      \"properties\": {\n        \"dtype\": \"number\",\n        \"std\": 0.002040730876369185,\n        \"min\": 0.0010620507783023136,\n        \"max\": 0.009329596531543765,\n        \"num_unique_values\": 100,\n        \"samples\": [\n          0.0020323204909821198,\n          0.004298300495758467,\n          0.0025040806289685228\n        ],\n        \"semantic_type\": \"\",\n        \"description\": \"\"\n      }\n    },\n    {\n      \"column\": \"train-auc-mean\",\n      \"properties\": {\n        \"dtype\": \"number\",\n        \"std\": 0.04377090797013958,\n        \"min\": 0.7597739439575423,\n        \"max\": 1.0,\n        \"num_unique_values\": 89,\n        \"samples\": [\n          0.9983827890474201,\n          0.9995297005638308,\n          0.9908477894943879\n        ],\n        \"semantic_type\": \"\",\n        \"description\": \"\"\n      }\n    },\n    {\n      \"column\": \"train-auc-std\",\n      \"properties\": {\n        \"dtype\": \"number\",\n        \"std\": 0.002775973619196649,\n        \"min\": 0.0,\n        \"max\": 0.012912095838546033,\n        \"num_unique_values\": 89,\n        \"samples\": [\n          0.0004777515555720882,\n          0.00015091282550348757,\n          0.0014403437177753634\n        ],\n        \"semantic_type\": \"\",\n        \"description\": \"\"\n      }\n    },\n    {\n      \"column\": \"train-merror-mean\",\n      \"properties\": {\n        \"dtype\": \"number\",\n        \"std\": 0.03919877373408682,\n        \"min\": 0.0005158709355674699,\n        \"max\": 0.13067508958884336,\n        \"num_unique_values\": 93,\n        \"samples\": [\n          0.03147127792410841,\n          0.07104943283261005,\n          0.0163621157553318\n        ],\n        \"semantic_type\": \"\",\n        \"description\": \"\"\n      }\n    },\n    {\n      \"column\": \"train-merror-std\",\n      \"properties\": {\n        \"dtype\": \"number\",\n        \"std\": 0.0012893672899282197,\n        \"min\": 0.0004036027474512929,\n        \"max\": 0.00502985138234297,\n        \"num_unique_values\": 93,\n        \"samples\": [\n          0.002880635374833549,\n          0.001993095477253705,\n          0.0026329910638012268\n        ],\n        \"semantic_type\": \"\",\n        \"description\": \"\"\n      }\n    },\n    {\n      \"column\": \"test-mlogloss-mean\",\n      \"properties\": {\n        \"dtype\": \"number\",\n        \"std\": 0.042199667815530965,\n        \"min\": 0.4060102629166781,\n        \"max\": 0.562149329863287,\n        \"num_unique_values\": 100,\n        \"samples\": [\n          0.5247788146494476,\n          0.48299853596963394,\n          0.5087749185669094\n        ],\n        \"semantic_type\": \"\",\n        \"description\": \"\"\n      }\n    },\n    {\n      \"column\": \"test-mlogloss-std\",\n      \"properties\": {\n        \"dtype\": \"number\",\n        \"std\": 0.005277038571170564,\n        \"min\": 0.0034432623321851694,\n        \"max\": 0.021063985977591407,\n        \"num_unique_values\": 100,\n        \"samples\": [\n          0.01864701472150007,\n          0.018083606207882956,\n          0.017937268988492704\n        ],\n        \"semantic_type\": \"\",\n        \"description\": \"\"\n      }\n    },\n    {\n      \"column\": \"test-auc-mean\",\n      \"properties\": {\n        \"dtype\": \"number\",\n        \"std\": 0.017214863951749516,\n        \"min\": 0.6334453307754548,\n        \"max\": 0.695873320982926,\n        \"num_unique_values\": 100,\n        \"samples\": [\n          0.6367172432842871,\n          0.6411720000242129,\n          0.6351904902303303\n        ],\n        \"semantic_type\": \"\",\n        \"description\": \"\"\n      }\n    },\n    {\n      \"column\": \"test-auc-std\",\n      \"properties\": {\n        \"dtype\": \"number\",\n        \"std\": 0.003891169147064132,\n        \"min\": 0.0067469866846488835,\n        \"max\": 0.02723785933074956,\n        \"num_unique_values\": 100,\n        \"samples\": [\n          0.02384798775718744,\n          0.023776725144995584,\n          0.024391996316841438\n        ],\n        \"semantic_type\": \"\",\n        \"description\": \"\"\n      }\n    },\n    {\n      \"column\": \"test-merror-mean\",\n      \"properties\": {\n        \"dtype\": \"number\",\n        \"std\": 0.002833256253138819,\n        \"min\": 0.16184698128863806,\n        \"max\": 0.17217103062372657,\n        \"num_unique_values\": 85,\n        \"samples\": [\n          0.17069653881076197,\n          0.1659772092396853,\n          0.17069740769220743\n        ],\n        \"semantic_type\": \"\",\n        \"description\": \"\"\n      }\n    },\n    {\n      \"column\": \"test-merror-std\",\n      \"properties\": {\n        \"dtype\": \"number\",\n        \"std\": 0.0017679557551491954,\n        \"min\": 0.0028721272109154617,\n        \"max\": 0.011654046494375658,\n        \"num_unique_values\": 100,\n        \"samples\": [\n          0.004686409680313729,\n          0.006371889904016877,\n          0.004788059760033277\n        ],\n        \"semantic_type\": \"\",\n        \"description\": \"\"\n      }\n    }\n  ]\n}"
            }
          },
          "metadata": {},
          "execution_count": 56
        }
      ]
    },
    {
      "cell_type": "code",
      "source": [
        "#imputed\n",
        "params = {\"objective\": \"multi:softprob\", \"tree_method\": \"hist\", \"num_class\": 2}\n",
        "n = 100\n",
        "\n",
        "results = xgb.cv(\n",
        "   params, xm,\n",
        "   num_boost_round=n,\n",
        "   nfold=5,\n",
        "   metrics=[\"mlogloss\", \"auc\", \"merror\"],\n",
        ")"
      ],
      "metadata": {
        "id": "p3tnhZTEiKDA"
      },
      "execution_count": 58,
      "outputs": [],
      "id": "p3tnhZTEiKDA"
    },
    {
      "cell_type": "code",
      "source": [
        "results"
      ],
      "metadata": {
        "colab": {
          "base_uri": "https://localhost:8080/",
          "height": 424
        },
        "id": "Rbq2lekXzi4P",
        "outputId": "0c3d4ed9-1746-40ea-c250-e0fb1a426431"
      },
      "id": "Rbq2lekXzi4P",
      "execution_count": 59,
      "outputs": [
        {
          "output_type": "execute_result",
          "data": {
            "text/plain": [
              "    train-mlogloss-mean  train-mlogloss-std  train-auc-mean  train-auc-std  \\\n",
              "0              0.539943            0.002105        0.775470       0.010973   \n",
              "1              0.454985            0.003380        0.805067       0.015096   \n",
              "2              0.400409            0.002681        0.831600       0.012017   \n",
              "3              0.362328            0.003689        0.852796       0.009980   \n",
              "4              0.335632            0.003439        0.869819       0.008375   \n",
              "..                  ...                 ...             ...            ...   \n",
              "95             0.039130            0.002831        1.000000       0.000000   \n",
              "96             0.038562            0.002758        1.000000       0.000000   \n",
              "97             0.037857            0.002672        1.000000       0.000000   \n",
              "98             0.037389            0.002501        1.000000       0.000000   \n",
              "99             0.036880            0.002627        1.000000       0.000000   \n",
              "\n",
              "    train-merror-mean  train-merror-std  test-mlogloss-mean  \\\n",
              "0            0.121069          0.004084            0.557453   \n",
              "1            0.114918          0.003448            0.486388   \n",
              "2            0.113722          0.002459            0.445108   \n",
              "3            0.111928          0.003374            0.420819   \n",
              "4            0.109621          0.002450            0.407511   \n",
              "..                ...               ...                 ...   \n",
              "95           0.000000          0.000000            0.534668   \n",
              "96           0.000000          0.000000            0.535482   \n",
              "97           0.000000          0.000000            0.537428   \n",
              "98           0.000000          0.000000            0.539108   \n",
              "99           0.000000          0.000000            0.540173   \n",
              "\n",
              "    test-mlogloss-std  test-auc-mean  test-auc-std  test-merror-mean  \\\n",
              "0            0.001164       0.668344      0.031607          0.161312   \n",
              "1            0.004300       0.686938      0.023289          0.154477   \n",
              "2            0.004561       0.699175      0.021185          0.154477   \n",
              "3            0.007543       0.699522      0.023849          0.152085   \n",
              "4            0.009036       0.699443      0.026915          0.151399   \n",
              "..                ...            ...           ...               ...   \n",
              "95           0.029043       0.642838      0.024724          0.166779   \n",
              "96           0.029245       0.643755      0.025421          0.167805   \n",
              "97           0.029285       0.644041      0.026208          0.168489   \n",
              "98           0.029421       0.643508      0.026612          0.169172   \n",
              "99           0.029148       0.643148      0.026716          0.169173   \n",
              "\n",
              "    test-merror-std  \n",
              "0          0.004095  \n",
              "1          0.006533  \n",
              "2          0.004394  \n",
              "3          0.006035  \n",
              "4          0.007259  \n",
              "..              ...  \n",
              "95         0.003453  \n",
              "96         0.003603  \n",
              "97         0.003954  \n",
              "98         0.004165  \n",
              "99         0.003747  \n",
              "\n",
              "[100 rows x 12 columns]"
            ],
            "text/html": [
              "\n",
              "  <div id=\"df-25fbd73c-6e31-4fd2-bfde-92fa6280b020\" class=\"colab-df-container\">\n",
              "    <div>\n",
              "<style scoped>\n",
              "    .dataframe tbody tr th:only-of-type {\n",
              "        vertical-align: middle;\n",
              "    }\n",
              "\n",
              "    .dataframe tbody tr th {\n",
              "        vertical-align: top;\n",
              "    }\n",
              "\n",
              "    .dataframe thead th {\n",
              "        text-align: right;\n",
              "    }\n",
              "</style>\n",
              "<table border=\"1\" class=\"dataframe\">\n",
              "  <thead>\n",
              "    <tr style=\"text-align: right;\">\n",
              "      <th></th>\n",
              "      <th>train-mlogloss-mean</th>\n",
              "      <th>train-mlogloss-std</th>\n",
              "      <th>train-auc-mean</th>\n",
              "      <th>train-auc-std</th>\n",
              "      <th>train-merror-mean</th>\n",
              "      <th>train-merror-std</th>\n",
              "      <th>test-mlogloss-mean</th>\n",
              "      <th>test-mlogloss-std</th>\n",
              "      <th>test-auc-mean</th>\n",
              "      <th>test-auc-std</th>\n",
              "      <th>test-merror-mean</th>\n",
              "      <th>test-merror-std</th>\n",
              "    </tr>\n",
              "  </thead>\n",
              "  <tbody>\n",
              "    <tr>\n",
              "      <th>0</th>\n",
              "      <td>0.539943</td>\n",
              "      <td>0.002105</td>\n",
              "      <td>0.775470</td>\n",
              "      <td>0.010973</td>\n",
              "      <td>0.121069</td>\n",
              "      <td>0.004084</td>\n",
              "      <td>0.557453</td>\n",
              "      <td>0.001164</td>\n",
              "      <td>0.668344</td>\n",
              "      <td>0.031607</td>\n",
              "      <td>0.161312</td>\n",
              "      <td>0.004095</td>\n",
              "    </tr>\n",
              "    <tr>\n",
              "      <th>1</th>\n",
              "      <td>0.454985</td>\n",
              "      <td>0.003380</td>\n",
              "      <td>0.805067</td>\n",
              "      <td>0.015096</td>\n",
              "      <td>0.114918</td>\n",
              "      <td>0.003448</td>\n",
              "      <td>0.486388</td>\n",
              "      <td>0.004300</td>\n",
              "      <td>0.686938</td>\n",
              "      <td>0.023289</td>\n",
              "      <td>0.154477</td>\n",
              "      <td>0.006533</td>\n",
              "    </tr>\n",
              "    <tr>\n",
              "      <th>2</th>\n",
              "      <td>0.400409</td>\n",
              "      <td>0.002681</td>\n",
              "      <td>0.831600</td>\n",
              "      <td>0.012017</td>\n",
              "      <td>0.113722</td>\n",
              "      <td>0.002459</td>\n",
              "      <td>0.445108</td>\n",
              "      <td>0.004561</td>\n",
              "      <td>0.699175</td>\n",
              "      <td>0.021185</td>\n",
              "      <td>0.154477</td>\n",
              "      <td>0.004394</td>\n",
              "    </tr>\n",
              "    <tr>\n",
              "      <th>3</th>\n",
              "      <td>0.362328</td>\n",
              "      <td>0.003689</td>\n",
              "      <td>0.852796</td>\n",
              "      <td>0.009980</td>\n",
              "      <td>0.111928</td>\n",
              "      <td>0.003374</td>\n",
              "      <td>0.420819</td>\n",
              "      <td>0.007543</td>\n",
              "      <td>0.699522</td>\n",
              "      <td>0.023849</td>\n",
              "      <td>0.152085</td>\n",
              "      <td>0.006035</td>\n",
              "    </tr>\n",
              "    <tr>\n",
              "      <th>4</th>\n",
              "      <td>0.335632</td>\n",
              "      <td>0.003439</td>\n",
              "      <td>0.869819</td>\n",
              "      <td>0.008375</td>\n",
              "      <td>0.109621</td>\n",
              "      <td>0.002450</td>\n",
              "      <td>0.407511</td>\n",
              "      <td>0.009036</td>\n",
              "      <td>0.699443</td>\n",
              "      <td>0.026915</td>\n",
              "      <td>0.151399</td>\n",
              "      <td>0.007259</td>\n",
              "    </tr>\n",
              "    <tr>\n",
              "      <th>...</th>\n",
              "      <td>...</td>\n",
              "      <td>...</td>\n",
              "      <td>...</td>\n",
              "      <td>...</td>\n",
              "      <td>...</td>\n",
              "      <td>...</td>\n",
              "      <td>...</td>\n",
              "      <td>...</td>\n",
              "      <td>...</td>\n",
              "      <td>...</td>\n",
              "      <td>...</td>\n",
              "      <td>...</td>\n",
              "    </tr>\n",
              "    <tr>\n",
              "      <th>95</th>\n",
              "      <td>0.039130</td>\n",
              "      <td>0.002831</td>\n",
              "      <td>1.000000</td>\n",
              "      <td>0.000000</td>\n",
              "      <td>0.000000</td>\n",
              "      <td>0.000000</td>\n",
              "      <td>0.534668</td>\n",
              "      <td>0.029043</td>\n",
              "      <td>0.642838</td>\n",
              "      <td>0.024724</td>\n",
              "      <td>0.166779</td>\n",
              "      <td>0.003453</td>\n",
              "    </tr>\n",
              "    <tr>\n",
              "      <th>96</th>\n",
              "      <td>0.038562</td>\n",
              "      <td>0.002758</td>\n",
              "      <td>1.000000</td>\n",
              "      <td>0.000000</td>\n",
              "      <td>0.000000</td>\n",
              "      <td>0.000000</td>\n",
              "      <td>0.535482</td>\n",
              "      <td>0.029245</td>\n",
              "      <td>0.643755</td>\n",
              "      <td>0.025421</td>\n",
              "      <td>0.167805</td>\n",
              "      <td>0.003603</td>\n",
              "    </tr>\n",
              "    <tr>\n",
              "      <th>97</th>\n",
              "      <td>0.037857</td>\n",
              "      <td>0.002672</td>\n",
              "      <td>1.000000</td>\n",
              "      <td>0.000000</td>\n",
              "      <td>0.000000</td>\n",
              "      <td>0.000000</td>\n",
              "      <td>0.537428</td>\n",
              "      <td>0.029285</td>\n",
              "      <td>0.644041</td>\n",
              "      <td>0.026208</td>\n",
              "      <td>0.168489</td>\n",
              "      <td>0.003954</td>\n",
              "    </tr>\n",
              "    <tr>\n",
              "      <th>98</th>\n",
              "      <td>0.037389</td>\n",
              "      <td>0.002501</td>\n",
              "      <td>1.000000</td>\n",
              "      <td>0.000000</td>\n",
              "      <td>0.000000</td>\n",
              "      <td>0.000000</td>\n",
              "      <td>0.539108</td>\n",
              "      <td>0.029421</td>\n",
              "      <td>0.643508</td>\n",
              "      <td>0.026612</td>\n",
              "      <td>0.169172</td>\n",
              "      <td>0.004165</td>\n",
              "    </tr>\n",
              "    <tr>\n",
              "      <th>99</th>\n",
              "      <td>0.036880</td>\n",
              "      <td>0.002627</td>\n",
              "      <td>1.000000</td>\n",
              "      <td>0.000000</td>\n",
              "      <td>0.000000</td>\n",
              "      <td>0.000000</td>\n",
              "      <td>0.540173</td>\n",
              "      <td>0.029148</td>\n",
              "      <td>0.643148</td>\n",
              "      <td>0.026716</td>\n",
              "      <td>0.169173</td>\n",
              "      <td>0.003747</td>\n",
              "    </tr>\n",
              "  </tbody>\n",
              "</table>\n",
              "<p>100 rows × 12 columns</p>\n",
              "</div>\n",
              "    <div class=\"colab-df-buttons\">\n",
              "\n",
              "  <div class=\"colab-df-container\">\n",
              "    <button class=\"colab-df-convert\" onclick=\"convertToInteractive('df-25fbd73c-6e31-4fd2-bfde-92fa6280b020')\"\n",
              "            title=\"Convert this dataframe to an interactive table.\"\n",
              "            style=\"display:none;\">\n",
              "\n",
              "  <svg xmlns=\"http://www.w3.org/2000/svg\" height=\"24px\" viewBox=\"0 -960 960 960\">\n",
              "    <path d=\"M120-120v-720h720v720H120Zm60-500h600v-160H180v160Zm220 220h160v-160H400v160Zm0 220h160v-160H400v160ZM180-400h160v-160H180v160Zm440 0h160v-160H620v160ZM180-180h160v-160H180v160Zm440 0h160v-160H620v160Z\"/>\n",
              "  </svg>\n",
              "    </button>\n",
              "\n",
              "  <style>\n",
              "    .colab-df-container {\n",
              "      display:flex;\n",
              "      gap: 12px;\n",
              "    }\n",
              "\n",
              "    .colab-df-convert {\n",
              "      background-color: #E8F0FE;\n",
              "      border: none;\n",
              "      border-radius: 50%;\n",
              "      cursor: pointer;\n",
              "      display: none;\n",
              "      fill: #1967D2;\n",
              "      height: 32px;\n",
              "      padding: 0 0 0 0;\n",
              "      width: 32px;\n",
              "    }\n",
              "\n",
              "    .colab-df-convert:hover {\n",
              "      background-color: #E2EBFA;\n",
              "      box-shadow: 0px 1px 2px rgba(60, 64, 67, 0.3), 0px 1px 3px 1px rgba(60, 64, 67, 0.15);\n",
              "      fill: #174EA6;\n",
              "    }\n",
              "\n",
              "    .colab-df-buttons div {\n",
              "      margin-bottom: 4px;\n",
              "    }\n",
              "\n",
              "    [theme=dark] .colab-df-convert {\n",
              "      background-color: #3B4455;\n",
              "      fill: #D2E3FC;\n",
              "    }\n",
              "\n",
              "    [theme=dark] .colab-df-convert:hover {\n",
              "      background-color: #434B5C;\n",
              "      box-shadow: 0px 1px 3px 1px rgba(0, 0, 0, 0.15);\n",
              "      filter: drop-shadow(0px 1px 2px rgba(0, 0, 0, 0.3));\n",
              "      fill: #FFFFFF;\n",
              "    }\n",
              "  </style>\n",
              "\n",
              "    <script>\n",
              "      const buttonEl =\n",
              "        document.querySelector('#df-25fbd73c-6e31-4fd2-bfde-92fa6280b020 button.colab-df-convert');\n",
              "      buttonEl.style.display =\n",
              "        google.colab.kernel.accessAllowed ? 'block' : 'none';\n",
              "\n",
              "      async function convertToInteractive(key) {\n",
              "        const element = document.querySelector('#df-25fbd73c-6e31-4fd2-bfde-92fa6280b020');\n",
              "        const dataTable =\n",
              "          await google.colab.kernel.invokeFunction('convertToInteractive',\n",
              "                                                    [key], {});\n",
              "        if (!dataTable) return;\n",
              "\n",
              "        const docLinkHtml = 'Like what you see? Visit the ' +\n",
              "          '<a target=\"_blank\" href=https://colab.research.google.com/notebooks/data_table.ipynb>data table notebook</a>'\n",
              "          + ' to learn more about interactive tables.';\n",
              "        element.innerHTML = '';\n",
              "        dataTable['output_type'] = 'display_data';\n",
              "        await google.colab.output.renderOutput(dataTable, element);\n",
              "        const docLink = document.createElement('div');\n",
              "        docLink.innerHTML = docLinkHtml;\n",
              "        element.appendChild(docLink);\n",
              "      }\n",
              "    </script>\n",
              "  </div>\n",
              "\n",
              "\n",
              "<div id=\"df-33a7b726-a6ea-403d-aadf-8f8d03e0786d\">\n",
              "  <button class=\"colab-df-quickchart\" onclick=\"quickchart('df-33a7b726-a6ea-403d-aadf-8f8d03e0786d')\"\n",
              "            title=\"Suggest charts\"\n",
              "            style=\"display:none;\">\n",
              "\n",
              "<svg xmlns=\"http://www.w3.org/2000/svg\" height=\"24px\"viewBox=\"0 0 24 24\"\n",
              "     width=\"24px\">\n",
              "    <g>\n",
              "        <path d=\"M19 3H5c-1.1 0-2 .9-2 2v14c0 1.1.9 2 2 2h14c1.1 0 2-.9 2-2V5c0-1.1-.9-2-2-2zM9 17H7v-7h2v7zm4 0h-2V7h2v10zm4 0h-2v-4h2v4z\"/>\n",
              "    </g>\n",
              "</svg>\n",
              "  </button>\n",
              "\n",
              "<style>\n",
              "  .colab-df-quickchart {\n",
              "      --bg-color: #E8F0FE;\n",
              "      --fill-color: #1967D2;\n",
              "      --hover-bg-color: #E2EBFA;\n",
              "      --hover-fill-color: #174EA6;\n",
              "      --disabled-fill-color: #AAA;\n",
              "      --disabled-bg-color: #DDD;\n",
              "  }\n",
              "\n",
              "  [theme=dark] .colab-df-quickchart {\n",
              "      --bg-color: #3B4455;\n",
              "      --fill-color: #D2E3FC;\n",
              "      --hover-bg-color: #434B5C;\n",
              "      --hover-fill-color: #FFFFFF;\n",
              "      --disabled-bg-color: #3B4455;\n",
              "      --disabled-fill-color: #666;\n",
              "  }\n",
              "\n",
              "  .colab-df-quickchart {\n",
              "    background-color: var(--bg-color);\n",
              "    border: none;\n",
              "    border-radius: 50%;\n",
              "    cursor: pointer;\n",
              "    display: none;\n",
              "    fill: var(--fill-color);\n",
              "    height: 32px;\n",
              "    padding: 0;\n",
              "    width: 32px;\n",
              "  }\n",
              "\n",
              "  .colab-df-quickchart:hover {\n",
              "    background-color: var(--hover-bg-color);\n",
              "    box-shadow: 0 1px 2px rgba(60, 64, 67, 0.3), 0 1px 3px 1px rgba(60, 64, 67, 0.15);\n",
              "    fill: var(--button-hover-fill-color);\n",
              "  }\n",
              "\n",
              "  .colab-df-quickchart-complete:disabled,\n",
              "  .colab-df-quickchart-complete:disabled:hover {\n",
              "    background-color: var(--disabled-bg-color);\n",
              "    fill: var(--disabled-fill-color);\n",
              "    box-shadow: none;\n",
              "  }\n",
              "\n",
              "  .colab-df-spinner {\n",
              "    border: 2px solid var(--fill-color);\n",
              "    border-color: transparent;\n",
              "    border-bottom-color: var(--fill-color);\n",
              "    animation:\n",
              "      spin 1s steps(1) infinite;\n",
              "  }\n",
              "\n",
              "  @keyframes spin {\n",
              "    0% {\n",
              "      border-color: transparent;\n",
              "      border-bottom-color: var(--fill-color);\n",
              "      border-left-color: var(--fill-color);\n",
              "    }\n",
              "    20% {\n",
              "      border-color: transparent;\n",
              "      border-left-color: var(--fill-color);\n",
              "      border-top-color: var(--fill-color);\n",
              "    }\n",
              "    30% {\n",
              "      border-color: transparent;\n",
              "      border-left-color: var(--fill-color);\n",
              "      border-top-color: var(--fill-color);\n",
              "      border-right-color: var(--fill-color);\n",
              "    }\n",
              "    40% {\n",
              "      border-color: transparent;\n",
              "      border-right-color: var(--fill-color);\n",
              "      border-top-color: var(--fill-color);\n",
              "    }\n",
              "    60% {\n",
              "      border-color: transparent;\n",
              "      border-right-color: var(--fill-color);\n",
              "    }\n",
              "    80% {\n",
              "      border-color: transparent;\n",
              "      border-right-color: var(--fill-color);\n",
              "      border-bottom-color: var(--fill-color);\n",
              "    }\n",
              "    90% {\n",
              "      border-color: transparent;\n",
              "      border-bottom-color: var(--fill-color);\n",
              "    }\n",
              "  }\n",
              "</style>\n",
              "\n",
              "  <script>\n",
              "    async function quickchart(key) {\n",
              "      const quickchartButtonEl =\n",
              "        document.querySelector('#' + key + ' button');\n",
              "      quickchartButtonEl.disabled = true;  // To prevent multiple clicks.\n",
              "      quickchartButtonEl.classList.add('colab-df-spinner');\n",
              "      try {\n",
              "        const charts = await google.colab.kernel.invokeFunction(\n",
              "            'suggestCharts', [key], {});\n",
              "      } catch (error) {\n",
              "        console.error('Error during call to suggestCharts:', error);\n",
              "      }\n",
              "      quickchartButtonEl.classList.remove('colab-df-spinner');\n",
              "      quickchartButtonEl.classList.add('colab-df-quickchart-complete');\n",
              "    }\n",
              "    (() => {\n",
              "      let quickchartButtonEl =\n",
              "        document.querySelector('#df-33a7b726-a6ea-403d-aadf-8f8d03e0786d button');\n",
              "      quickchartButtonEl.style.display =\n",
              "        google.colab.kernel.accessAllowed ? 'block' : 'none';\n",
              "    })();\n",
              "  </script>\n",
              "</div>\n",
              "\n",
              "  <div id=\"id_520175ee-cc05-4950-aa72-dedb04b3555a\">\n",
              "    <style>\n",
              "      .colab-df-generate {\n",
              "        background-color: #E8F0FE;\n",
              "        border: none;\n",
              "        border-radius: 50%;\n",
              "        cursor: pointer;\n",
              "        display: none;\n",
              "        fill: #1967D2;\n",
              "        height: 32px;\n",
              "        padding: 0 0 0 0;\n",
              "        width: 32px;\n",
              "      }\n",
              "\n",
              "      .colab-df-generate:hover {\n",
              "        background-color: #E2EBFA;\n",
              "        box-shadow: 0px 1px 2px rgba(60, 64, 67, 0.3), 0px 1px 3px 1px rgba(60, 64, 67, 0.15);\n",
              "        fill: #174EA6;\n",
              "      }\n",
              "\n",
              "      [theme=dark] .colab-df-generate {\n",
              "        background-color: #3B4455;\n",
              "        fill: #D2E3FC;\n",
              "      }\n",
              "\n",
              "      [theme=dark] .colab-df-generate:hover {\n",
              "        background-color: #434B5C;\n",
              "        box-shadow: 0px 1px 3px 1px rgba(0, 0, 0, 0.15);\n",
              "        filter: drop-shadow(0px 1px 2px rgba(0, 0, 0, 0.3));\n",
              "        fill: #FFFFFF;\n",
              "      }\n",
              "    </style>\n",
              "    <button class=\"colab-df-generate\" onclick=\"generateWithVariable('results')\"\n",
              "            title=\"Generate code using this dataframe.\"\n",
              "            style=\"display:none;\">\n",
              "\n",
              "  <svg xmlns=\"http://www.w3.org/2000/svg\" height=\"24px\"viewBox=\"0 0 24 24\"\n",
              "       width=\"24px\">\n",
              "    <path d=\"M7,19H8.4L18.45,9,17,7.55,7,17.6ZM5,21V16.75L18.45,3.32a2,2,0,0,1,2.83,0l1.4,1.43a1.91,1.91,0,0,1,.58,1.4,1.91,1.91,0,0,1-.58,1.4L9.25,21ZM18.45,9,17,7.55Zm-12,3A5.31,5.31,0,0,0,4.9,8.1,5.31,5.31,0,0,0,1,6.5,5.31,5.31,0,0,0,4.9,4.9,5.31,5.31,0,0,0,6.5,1,5.31,5.31,0,0,0,8.1,4.9,5.31,5.31,0,0,0,12,6.5,5.46,5.46,0,0,0,6.5,12Z\"/>\n",
              "  </svg>\n",
              "    </button>\n",
              "    <script>\n",
              "      (() => {\n",
              "      const buttonEl =\n",
              "        document.querySelector('#id_520175ee-cc05-4950-aa72-dedb04b3555a button.colab-df-generate');\n",
              "      buttonEl.style.display =\n",
              "        google.colab.kernel.accessAllowed ? 'block' : 'none';\n",
              "\n",
              "      buttonEl.onclick = () => {\n",
              "        google.colab.notebook.generateWithVariable('results');\n",
              "      }\n",
              "      })();\n",
              "    </script>\n",
              "  </div>\n",
              "\n",
              "    </div>\n",
              "  </div>\n"
            ],
            "application/vnd.google.colaboratory.intrinsic+json": {
              "type": "dataframe",
              "variable_name": "results",
              "summary": "{\n  \"name\": \"results\",\n  \"rows\": 100,\n  \"fields\": [\n    {\n      \"column\": \"train-mlogloss-mean\",\n      \"properties\": {\n        \"dtype\": \"number\",\n        \"std\": 0.09665595452851067,\n        \"min\": 0.03688048428589295,\n        \"max\": 0.5399430249718599,\n        \"num_unique_values\": 100,\n        \"samples\": [\n          0.04875699623143516,\n          0.08815067174708568,\n          0.06180466710350006\n        ],\n        \"semantic_type\": \"\",\n        \"description\": \"\"\n      }\n    },\n    {\n      \"column\": \"train-mlogloss-std\",\n      \"properties\": {\n        \"dtype\": \"number\",\n        \"std\": 0.0034671185583927387,\n        \"min\": 0.002105031032351721,\n        \"max\": 0.016242211064366224,\n        \"num_unique_values\": 100,\n        \"samples\": [\n          0.002678212669894139,\n          0.007662145174231148,\n          0.0049430048871213755\n        ],\n        \"semantic_type\": \"\",\n        \"description\": \"\"\n      }\n    },\n    {\n      \"column\": \"train-auc-mean\",\n      \"properties\": {\n        \"dtype\": \"number\",\n        \"std\": 0.04217216143752129,\n        \"min\": 0.7754703212113639,\n        \"max\": 1.0,\n        \"num_unique_values\": 76,\n        \"samples\": [\n          0.8698186686599694,\n          0.9969033182916087,\n          0.9453417760774622\n        ],\n        \"semantic_type\": \"\",\n        \"description\": \"\"\n      }\n    },\n    {\n      \"column\": \"train-auc-std\",\n      \"properties\": {\n        \"dtype\": \"number\",\n        \"std\": 0.0032940725323922747,\n        \"min\": 0.0,\n        \"max\": 0.015096035255801724,\n        \"num_unique_values\": 76,\n        \"samples\": [\n          0.008375275474364388,\n          0.001471426475294801,\n          0.007714935832465651\n        ],\n        \"semantic_type\": \"\",\n        \"description\": \"\"\n      }\n    },\n    {\n      \"column\": \"train-merror-mean\",\n      \"properties\": {\n        \"dtype\": \"number\",\n        \"std\": 0.03687108678239685,\n        \"min\": 0.0,\n        \"max\": 0.12106938009543733,\n        \"num_unique_values\": 87,\n        \"samples\": [\n          0.001110636480136694,\n          0.12106938009543733,\n          0.05348645658769537\n        ],\n        \"semantic_type\": \"\",\n        \"description\": \"\"\n      }\n    },\n    {\n      \"column\": \"train-merror-std\",\n      \"properties\": {\n        \"dtype\": \"number\",\n        \"std\": 0.002679792212091975,\n        \"min\": 0.0,\n        \"max\": 0.009933059505705184,\n        \"num_unique_values\": 86,\n        \"samples\": [\n          0.0008543357539513041,\n          0.004083910785984096,\n          0.0014943853750642526\n        ],\n        \"semantic_type\": \"\",\n        \"description\": \"\"\n      }\n    },\n    {\n      \"column\": \"test-mlogloss-mean\",\n      \"properties\": {\n        \"dtype\": \"number\",\n        \"std\": 0.043800348359972784,\n        \"min\": 0.3972591964611564,\n        \"max\": 0.5574530406929447,\n        \"num_unique_values\": 100,\n        \"samples\": [\n          0.5148467541344548,\n          0.4674767816272034,\n          0.4949096150280262\n        ],\n        \"semantic_type\": \"\",\n        \"description\": \"\"\n      }\n    },\n    {\n      \"column\": \"test-mlogloss-std\",\n      \"properties\": {\n        \"dtype\": \"number\",\n        \"std\": 0.006122294209978983,\n        \"min\": 0.001163875528067933,\n        \"max\": 0.02996864650872815,\n        \"num_unique_values\": 100,\n        \"samples\": [\n          0.025330880264117093,\n          0.01962972027054935,\n          0.024912591600659076\n        ],\n        \"semantic_type\": \"\",\n        \"description\": \"\"\n      }\n    },\n    {\n      \"column\": \"test-auc-mean\",\n      \"properties\": {\n        \"dtype\": \"number\",\n        \"std\": 0.01621421855919251,\n        \"min\": 0.6420350416539768,\n        \"max\": 0.7008134244261367,\n        \"num_unique_values\": 100,\n        \"samples\": [\n          0.6439413028679457,\n          0.6549091312991275,\n          0.6488199741815868\n        ],\n        \"semantic_type\": \"\",\n        \"description\": \"\"\n      }\n    },\n    {\n      \"column\": \"test-auc-std\",\n      \"properties\": {\n        \"dtype\": \"number\",\n        \"std\": 0.003325856295693597,\n        \"min\": 0.015149665952465457,\n        \"max\": 0.03160691243200485,\n        \"num_unique_values\": 100,\n        \"samples\": [\n          0.021871160729577573,\n          0.016265690716339782,\n          0.019412421590721898\n        ],\n        \"semantic_type\": \"\",\n        \"description\": \"\"\n      }\n    },\n    {\n      \"column\": \"test-merror-mean\",\n      \"properties\": {\n        \"dtype\": \"number\",\n        \"std\": 0.004806406096893285,\n        \"min\": 0.15139931740614335,\n        \"max\": 0.16917301128905224,\n        \"num_unique_values\": 85,\n        \"samples\": [\n          0.16814678684985854,\n          0.16131151366646246,\n          0.16780665674863626\n        ],\n        \"semantic_type\": \"\",\n        \"description\": \"\"\n      }\n    },\n    {\n      \"column\": \"test-merror-std\",\n      \"properties\": {\n        \"dtype\": \"number\",\n        \"std\": 0.002619169843277286,\n        \"min\": 0.0025457980213356166,\n        \"max\": 0.011706655803959137,\n        \"num_unique_values\": 98,\n        \"samples\": [\n          0.006114920065797337,\n          0.010265904816709526,\n          0.003602659892485457\n        ],\n        \"semantic_type\": \"\",\n        \"description\": \"\"\n      }\n    }\n  ]\n}"
            }
          },
          "metadata": {},
          "execution_count": 59
        }
      ]
    }
  ],
  "metadata": {
    "kernelspec": {
      "display_name": "Python 3 (ipykernel)",
      "language": "python",
      "name": "python3"
    },
    "language_info": {
      "codemirror_mode": {
        "name": "ipython",
        "version": 3
      },
      "file_extension": ".py",
      "mimetype": "text/x-python",
      "name": "python",
      "nbconvert_exporter": "python",
      "pygments_lexer": "ipython3",
      "version": "3.11.7"
    },
    "colab": {
      "provenance": []
    }
  },
  "nbformat": 4,
  "nbformat_minor": 5
}