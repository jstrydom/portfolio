{
  "nbformat": 4,
  "nbformat_minor": 0,
  "metadata": {
    "colab": {
      "provenance": []
    },
    "kernelspec": {
      "name": "python3",
      "display_name": "Python 3"
    },
    "language_info": {
      "name": "python"
    }
  },
  "cells": [
    {
      "cell_type": "code",
      "source": [
        "from pulp import *\n",
        "import numpy as np\n",
        "# Define the problem\n",
        "model = LpProblem(\"SaaSafrasRevenueMaximization\", LpMaximize)\n",
        "\n",
        "# Decision Variables\n",
        "# New Business Acquisition (people)\n",
        "nba = LpVariable('NewBusinessAcquisition', lowBound=0, upBound=20, cat='Integer')\n",
        "\n",
        "# Account Management (people)\n",
        "am = LpVariable(\"AccountManagement\", lowBound=0, upBound=20, cat='Integer')\n",
        "\n",
        "# Support (people)\n",
        "support = LpVariable(\"Support\", lowBound=0, upBound=20, cat='Integer')\n",
        "\n",
        "# Constants\n",
        "revPerCustomer = 100\n",
        "numCustomerPerAM = 25  # Assuming this value from the second function\n",
        "churnRate = 0.1  # Assuming initial churn rate\n",
        "naturalCustomers = 25  # Assuming initial natural customer acquisition\n",
        "NBAacqCust = 5  # Assuming customer acquisition per new business acquisition\n",
        "totalrevenue = 0\n",
        "# Objective Function (Maximize total revenue over 24 months)\n",
        "for month in range(1, 25):\n",
        "    existingcustomers = 1000 + naturalCustomers * (month - 1)\n",
        "    churnreduction = 0.15 * (0.7 + support)\n",
        "    churnrate = churnRate - churnreduction\n",
        "    remainingcustomers = existingcustomers + NBAacqCust * nba - churnrate * existingcustomers\n",
        "\n",
        "    amrevenue = (am * numCustomerPerAM) * revPerCustomer * ((1 + 0.2) ** (min(month + 1, 6)))\n",
        "\n",
        "    baselinerevenue = 100 * (remainingcustomers - am * numCustomerPerAM)\n",
        "\n",
        "     # Total Revenue for the month\n",
        "    monthlyrevenue = amrevenue + baselinerevenue\n",
        "\n",
        "    totalrevenue += monthlyrevenue\n",
        "\n",
        "model += lpSum(totalrevenue)\n",
        "\n",
        "# Constraints on the number of employees\n",
        "model += nba + am + support <= 20\n",
        "\n",
        "# Solve the LP problem\n",
        "model.solve(GLPK(msg=True, options=['--ranges', 'sensitivity.txt']))\n",
        "\n",
        "# Print the solution status\n",
        "print(totalrevenue)"
      ],
      "metadata": {
        "colab": {
          "base_uri": "https://localhost:8080/"
        },
        "id": "5LIyg-N2zHcT",
        "outputId": "a170147c-5618-450a-92ed-3632363ab99d"
      },
      "execution_count": 18,
      "outputs": [
        {
          "output_type": "stream",
          "name": "stdout",
          "text": [
            "108623.99999999991*AccountManagement + 12000*NewBusinessAcquisition + 463500.0*Support + 3105450.0\n"
          ]
        }
      ]
    },
    {
      "cell_type": "code",
      "source": [
        "import numpy as np\n",
        "jobsMatrix = [[]]\n",
        "jobsMatrix = np.array([[14, 0, 6],\n",
        " [13, 1, 6],\n",
        " [13, 0, 7],\n",
        " [13, 1, 6],\n",
        " [13, 0, 7],\n",
        " [13, 1, 6],\n",
        " [13, 0, 7],\n",
        " [13, 1, 6],\n",
        " [13, 0, 7],\n",
        " [13, 1, 6],\n",
        " [13, 0, 7],\n",
        " [13, 1, 6],\n",
        " [13, 0, 7],\n",
        " [13, 1, 6],\n",
        " [13, 0, 7],\n",
        " [13, 1, 6],\n",
        " [13, 0, 7],\n",
        " [13, 1, 6],\n",
        " [13, 0, 7],\n",
        " [13, 1, 6],\n",
        " [13, 0, 7],\n",
        " [13, 1, 6],\n",
        " [13, 0, 7],\n",
        " [13, 1, 6]])\n"
      ],
      "metadata": {
        "id": "0QRO6XlZ4V9Z"
      },
      "execution_count": 13,
      "outputs": []
    },
    {
      "cell_type": "code",
      "source": [
        "jobsMatrix = [[]]\n",
        "jobsMatrix = np.array([[0, 16, 4], [0, 16, 4], [0, 16, 4], [0, 16, 4], [0, 16, 4],\n",
        "                      [0, 16, 4], [0, 16, 4], [0, 16, 4], [0, 16, 4], [0, 16, 4],\n",
        "                      [0, 16, 4], [0, 16, 4], [0, 16, 4], [0, 16, 4], [0, 16, 4],\n",
        "                      [0, 16, 4], [0, 16, 4], [0, 16, 4], [0, 16, 4], [0, 16, 4],\n",
        "                      [0, 16, 4], [0, 16, 4], [0, 16, 4], [0, 16, 4]])"
      ],
      "metadata": {
        "id": "4dO2K78rAGTF"
      },
      "execution_count": 128,
      "outputs": []
    },
    {
      "cell_type": "code",
      "execution_count": 11,
      "metadata": {
        "id": "ecrMUrS62AQU"
      },
      "outputs": [],
      "source": [
        "def cumRevenue(initChurnRate, numMonths, AMcompoundPerc, naturalCustomers, NBAacqCust, revPerCustomer, jobsMatrix, numCustomerPerAM, initNumCustomers, churnDecreasePerCSAT):\n",
        "    numCustomers = initNumCustomers\n",
        "    revPerAMCust =  np.zeros(24)\n",
        "    for i in range(24):\n",
        "        revPerAMCust[i] = revPerCustomer*((1+AMcompoundPerc)**(min(i+1,6)))\n",
        "    numAM = jobsMatrix[:,0]\n",
        "    numNBA = jobsMatrix[:,1]\n",
        "    numSupport = jobsMatrix[:,2]\n",
        "    cumRevenue = 0\n",
        "    # the first month is the amount of account managers multiplied by the amount of people that each account manager can have under their care\n",
        "    for month in range(numMonths):\n",
        "        numCustomers = (numCustomers - numCustomers*max(0, churnRate - (numSupport[month]*churnDecreasePerCSAT*initChurnRate))) + naturalCustomers + NBAacqCust*numNBA[month]\n",
        "        cumRevenue += ((numCustomers - numCustomerPerAM*numAM[month])*revPerCustomer) + numAM[month]*numCustomerPerAM*revPerAMCust[month]\n",
        "    return cumRevenue"
      ]
    },
    {
      "cell_type": "code",
      "source": [
        "cumRevenue(initChurnRate=0.10, numMonths = 24, AMcompoundPerc = 0.2, naturalCustomers = 25, NBAacqCust = 5, revPerCustomer=100, jobsMatrix=jobsMatrix, numCustomerPerAM=25, initNumCustomers=1000, churnDecreasePerCSAT=0.15)"
      ],
      "metadata": {
        "colab": {
          "base_uri": "https://localhost:8080/"
        },
        "id": "H1SwzCFz4hGw",
        "outputId": "a987cc4a-d9f4-4ba8-b14d-48a83e446644"
      },
      "execution_count": 14,
      "outputs": [
        {
          "output_type": "execute_result",
          "data": {
            "text/plain": [
              "4384246.897972111"
            ]
          },
          "metadata": {},
          "execution_count": 14
        }
      ]
    }
  ]
}